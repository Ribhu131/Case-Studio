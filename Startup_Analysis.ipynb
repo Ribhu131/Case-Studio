{
  "nbformat": 4,
  "nbformat_minor": 0,
  "metadata": {
    "colab": {
      "name": "Startup Analysis.ipynb",
      "provenance": []
    },
    "kernelspec": {
      "name": "python3",
      "display_name": "Python 3"
    },
    "language_info": {
      "name": "python"
    }
  },
  "cells": [
    {
      "cell_type": "code",
      "execution_count": 1,
      "metadata": {
        "id": "GCyuR-Oq9lql"
      },
      "outputs": [],
      "source": [
        "import pandas as pd\n",
        "import numpy as np\n",
        "\n",
        "\n",
        "from io import StringIO\n",
        "import requests\n",
        "\n",
        "# Visualisation libraries\n",
        "import matplotlib.pyplot as plt\n",
        "import seaborn as sns\n",
        "import plotly.express as px\n",
        "import plotly.graph_objects as go\n",
        "import plotly.offline as pyo\n",
        "\n",
        "\n",
        "\n",
        "import re\n",
        "\n",
        "# Disable warnings \n",
        "import warnings\n",
        "warnings.filterwarnings('ignore')"
      ]
    },
    {
      "cell_type": "code",
      "source": [
        "from google.colab import drive\n",
        "drive.mount(\"/content/drive\")"
      ],
      "metadata": {
        "colab": {
          "base_uri": "https://localhost:8080/"
        },
        "id": "sD5mB7g__KuI",
        "outputId": "307b7678-8487-4102-e2f0-f432d70bc11f"
      },
      "execution_count": 2,
      "outputs": [
        {
          "output_type": "stream",
          "name": "stdout",
          "text": [
            "Mounted at /content/drive\n"
          ]
        }
      ]
    },
    {
      "cell_type": "code",
      "source": [
        "data=pd.read_csv(\"/content/drive/MyDrive/investments_VC.csv\",encoding = 'unicode_escape')"
      ],
      "metadata": {
        "id": "74ai8P-Q_Kyz"
      },
      "execution_count": 4,
      "outputs": []
    },
    {
      "cell_type": "code",
      "source": [
        "df= data.copy()"
      ],
      "metadata": {
        "id": "kt5Q2Sei_K3P"
      },
      "execution_count": 5,
      "outputs": []
    },
    {
      "cell_type": "code",
      "source": [
        "df.shape"
      ],
      "metadata": {
        "colab": {
          "base_uri": "https://localhost:8080/"
        },
        "id": "vYncNAe5_3ch",
        "outputId": "89017919-dd82-4149-fbc2-e94628e43e47"
      },
      "execution_count": 6,
      "outputs": [
        {
          "output_type": "execute_result",
          "data": {
            "text/plain": [
              "(54294, 39)"
            ]
          },
          "metadata": {},
          "execution_count": 6
        }
      ]
    },
    {
      "cell_type": "code",
      "source": [
        "df.columns"
      ],
      "metadata": {
        "colab": {
          "base_uri": "https://localhost:8080/"
        },
        "id": "9W5sFZL3_7cg",
        "outputId": "2b3820f6-7a39-4527-cac5-32ac9eb08294"
      },
      "execution_count": 7,
      "outputs": [
        {
          "output_type": "execute_result",
          "data": {
            "text/plain": [
              "Index(['permalink', 'name', 'homepage_url', 'category_list', ' market ',\n",
              "       ' funding_total_usd ', 'status', 'country_code', 'state_code', 'region',\n",
              "       'city', 'funding_rounds', 'founded_at', 'founded_month',\n",
              "       'founded_quarter', 'founded_year', 'first_funding_at',\n",
              "       'last_funding_at', 'seed', 'venture', 'equity_crowdfunding',\n",
              "       'undisclosed', 'convertible_note', 'debt_financing', 'angel', 'grant',\n",
              "       'private_equity', 'post_ipo_equity', 'post_ipo_debt',\n",
              "       'secondary_market', 'product_crowdfunding', 'round_A', 'round_B',\n",
              "       'round_C', 'round_D', 'round_E', 'round_F', 'round_G', 'round_H'],\n",
              "      dtype='object')"
            ]
          },
          "metadata": {},
          "execution_count": 7
        }
      ]
    },
    {
      "cell_type": "code",
      "source": [
        "data.info()"
      ],
      "metadata": {
        "colab": {
          "base_uri": "https://localhost:8080/"
        },
        "id": "rYahsSnQ_7pG",
        "outputId": "32918ef8-a1d5-40f2-c395-ba6c3d27480c"
      },
      "execution_count": 8,
      "outputs": [
        {
          "output_type": "stream",
          "name": "stdout",
          "text": [
            "<class 'pandas.core.frame.DataFrame'>\n",
            "RangeIndex: 54294 entries, 0 to 54293\n",
            "Data columns (total 39 columns):\n",
            " #   Column                Non-Null Count  Dtype  \n",
            "---  ------                --------------  -----  \n",
            " 0   permalink             49438 non-null  object \n",
            " 1   name                  49437 non-null  object \n",
            " 2   homepage_url          45989 non-null  object \n",
            " 3   category_list         45477 non-null  object \n",
            " 4    market               45470 non-null  object \n",
            " 5    funding_total_usd    49438 non-null  object \n",
            " 6   status                48124 non-null  object \n",
            " 7   country_code          44165 non-null  object \n",
            " 8   state_code            30161 non-null  object \n",
            " 9   region                44165 non-null  object \n",
            " 10  city                  43322 non-null  object \n",
            " 11  funding_rounds        49438 non-null  float64\n",
            " 12  founded_at            38554 non-null  object \n",
            " 13  founded_month         38482 non-null  object \n",
            " 14  founded_quarter       38482 non-null  object \n",
            " 15  founded_year          38482 non-null  float64\n",
            " 16  first_funding_at      49438 non-null  object \n",
            " 17  last_funding_at       49438 non-null  object \n",
            " 18  seed                  49438 non-null  float64\n",
            " 19  venture               49438 non-null  float64\n",
            " 20  equity_crowdfunding   49438 non-null  float64\n",
            " 21  undisclosed           49438 non-null  float64\n",
            " 22  convertible_note      49438 non-null  float64\n",
            " 23  debt_financing        49438 non-null  float64\n",
            " 24  angel                 49438 non-null  float64\n",
            " 25  grant                 49438 non-null  float64\n",
            " 26  private_equity        49438 non-null  float64\n",
            " 27  post_ipo_equity       49438 non-null  float64\n",
            " 28  post_ipo_debt         49438 non-null  float64\n",
            " 29  secondary_market      49438 non-null  float64\n",
            " 30  product_crowdfunding  49438 non-null  float64\n",
            " 31  round_A               49438 non-null  float64\n",
            " 32  round_B               49438 non-null  float64\n",
            " 33  round_C               49438 non-null  float64\n",
            " 34  round_D               49438 non-null  float64\n",
            " 35  round_E               49438 non-null  float64\n",
            " 36  round_F               49438 non-null  float64\n",
            " 37  round_G               49438 non-null  float64\n",
            " 38  round_H               49438 non-null  float64\n",
            "dtypes: float64(23), object(16)\n",
            "memory usage: 16.2+ MB\n"
          ]
        }
      ]
    },
    {
      "cell_type": "markdown",
      "source": [
        "## **Problems**\n",
        "\n",
        "1-null values in all col\n",
        "\n",
        "2-name col is full of nan\n",
        "\n",
        "3-in total funding col nan value is represented by '-'\n",
        "\n",
        "4-no need of seperate round col\n",
        "\n",
        "5-category_list col values are not in appropriate manner\n",
        "\n",
        "6-date cpl has null value and incorrect data type\n",
        "\n",
        "7-round a to round g too many 0 values and incorrect data tpye\n",
        "\n",
        "8-no need of founded_month col\n",
        "\n",
        "9-founded_quarter col must carry the quarter number"
      ],
      "metadata": {
        "id": "RwW0LE27ACvI"
      }
    },
    {
      "cell_type": "code",
      "source": [
        "df=df.dropna(how='any', subset=['name'])"
      ],
      "metadata": {
        "id": "f18HQtcJAVnw"
      },
      "execution_count": 9,
      "outputs": []
    },
    {
      "cell_type": "code",
      "source": [
        "df['category_list'].replace(to_replace = r\"\\W\",value=',',regex= True,inplace= True)"
      ],
      "metadata": {
        "id": "yehBKikiAkJF"
      },
      "execution_count": 10,
      "outputs": []
    },
    {
      "cell_type": "code",
      "source": [
        "df['category_list'].replace(to_replace = r'^,',value='',regex= True,inplace= True)\n",
        "df['category_list'].replace(to_replace = r'E,Commerce',value='E-Commerce',regex= True,inplace= True)"
      ],
      "metadata": {
        "id": "8hgPXV6GAkPz"
      },
      "execution_count": 11,
      "outputs": []
    },
    {
      "cell_type": "code",
      "source": [
        "df = pd.melt(df,id_vars=['permalink', 'name', 'homepage_url', 'category_list', ' market ',\n",
        "       ' funding_total_usd ', 'status', 'country_code', 'state_code', 'region',\n",
        "       'city', 'funding_rounds', 'founded_at', 'founded_month',\n",
        "       'founded_quarter', 'founded_year', 'first_funding_at',\n",
        "       'last_funding_at', 'seed', 'venture', 'equity_crowdfunding',\n",
        "       'undisclosed', 'convertible_note', 'debt_financing', 'angel', 'grant',\n",
        "       'private_equity', 'post_ipo_equity', 'post_ipo_debt',\n",
        "       'secondary_market', 'product_crowdfunding'],var_name = 'gen_funding_round',value_name='funding_amount')"
      ],
      "metadata": {
        "id": "BvgfQOb1AoN5"
      },
      "execution_count": 12,
      "outputs": []
    },
    {
      "cell_type": "code",
      "source": [
        "df = pd.melt(df,id_vars=['permalink', 'name', 'homepage_url', 'category_list', ' market ',\n",
        "       ' funding_total_usd ', 'status', 'country_code', 'state_code', 'region',\n",
        "       'city', 'funding_rounds', 'founded_at', 'founded_month',\n",
        "       'founded_quarter', 'founded_year', 'first_funding_at',\n",
        "       'last_funding_at', 'gen_funding_round','funding_amount'],var_name = 'invest_round_type',value_name='amount_given')"
      ],
      "metadata": {
        "id": "A_0gPengAoTc"
      },
      "execution_count": 13,
      "outputs": []
    },
    {
      "cell_type": "code",
      "source": [
        "df=df[df['funding_amount']!=0.0]\n",
        "\n",
        "df=df[df['amount_given']!=0.0]"
      ],
      "metadata": {
        "id": "yhC7tkr9AoYD"
      },
      "execution_count": 14,
      "outputs": []
    },
    {
      "cell_type": "code",
      "source": [
        "df.shape"
      ],
      "metadata": {
        "colab": {
          "base_uri": "https://localhost:8080/"
        },
        "id": "YcAAHPtJAoc1",
        "outputId": "5839128e-3f1b-457d-b5e9-a76c6ef12106"
      },
      "execution_count": 15,
      "outputs": [
        {
          "output_type": "execute_result",
          "data": {
            "text/plain": [
              "(26600, 22)"
            ]
          },
          "metadata": {},
          "execution_count": 15
        }
      ]
    },
    {
      "cell_type": "code",
      "source": [
        "df['invest_round_type'].value_counts().plot(kind='bar')"
      ],
      "metadata": {
        "colab": {
          "base_uri": "https://localhost:8080/",
          "height": 385
        },
        "id": "YR_muXlqA1Xf",
        "outputId": "c2f3420f-c537-4f46-ffac-4fb12d7ad1d1"
      },
      "execution_count": 16,
      "outputs": [
        {
          "output_type": "execute_result",
          "data": {
            "text/plain": [
              "<matplotlib.axes._subplots.AxesSubplot at 0x7f5559938c50>"
            ]
          },
          "metadata": {},
          "execution_count": 16
        },
        {
          "output_type": "display_data",
          "data": {
            "text/plain": [
              "<Figure size 432x288 with 1 Axes>"
            ],
            "image/png": "[encoded data removed]"
          },
          "metadata": {
            "needs_background": "light"
          }
        }
      ]
    },
    {
      "cell_type": "markdown",
      "source": [
        "## vanture capitalist invested in most of the startups"
      ],
      "metadata": {
        "id": "UT0saHX7A6qb"
      }
    },
    {
      "cell_type": "code",
      "source": [
        "df['status'].value_counts()"
      ],
      "metadata": {
        "colab": {
          "base_uri": "https://localhost:8080/"
        },
        "id": "UiSp2cfzA1cK",
        "outputId": "7743b708-84d9-43c1-eba7-5e68a9b1a9f5"
      },
      "execution_count": 17,
      "outputs": [
        {
          "output_type": "execute_result",
          "data": {
            "text/plain": [
              "operating    20963\n",
              "acquired      4096\n",
              "closed        1105\n",
              "Name: status, dtype: int64"
            ]
          },
          "metadata": {},
          "execution_count": 17
        }
      ]
    },
    {
      "cell_type": "markdown",
      "source": [
        "## closed startup is less so startup have created employement"
      ],
      "metadata": {
        "id": "rAnOo3QhBEfo"
      }
    },
    {
      "cell_type": "code",
      "source": [
        "sns.relplot(x='funding_rounds',y='amount_given',hue='status',data=df)"
      ],
      "metadata": {
        "colab": {
          "base_uri": "https://localhost:8080/",
          "height": 387
        },
        "id": "EAJjv8w1A1gQ",
        "outputId": "5039a3c5-203d-401d-957a-fa9fcbf4442e"
      },
      "execution_count": 18,
      "outputs": [
        {
          "output_type": "execute_result",
          "data": {
            "text/plain": [
              "<seaborn.axisgrid.FacetGrid at 0x7f5559a73110>"
            ]
          },
          "metadata": {},
          "execution_count": 18
        },
        {
          "output_type": "display_data",
          "data": {
            "text/plain": [
              "<Figure size 444.125x360 with 1 Axes>"
            ],
            "image/png": "[encoded data removed]"
          },
          "metadata": {
            "needs_background": "light"
          }
        }
      ]
    },
    {
      "cell_type": "markdown",
      "source": [
        "possibility of closing down is high if funding is not managed.\n",
        "\n",
        "Once survived to get funded, makes easy to get funding from investers.\n",
        "\n",
        "and after geting more than 7 time of funding the startup dosen't colse down at all but may a possibility of getting acquired (selling of the company) is there."
      ],
      "metadata": {
        "id": "DjQOGJ6IBMUn"
      }
    },
    {
      "cell_type": "code",
      "source": [
        "plt.subplots(figsize=(12,5))\n",
        "sns.distplot(df['amount_given'],hist=False,label='Specialized Investment')\n",
        "sns.distplot(df['funding_amount'],hist=False,label='General Round Funding')\n",
        "plt.xlabel('Investment')\n",
        "plt.show()"
      ],
      "metadata": {
        "colab": {
          "base_uri": "https://localhost:8080/",
          "height": 345
        },
        "id": "vmi2PHodA1is",
        "outputId": "d8e63256-b953-4aef-fa2f-a03a8f82020f"
      },
      "execution_count": 20,
      "outputs": [
        {
          "output_type": "display_data",
          "data": {
            "text/plain": [
              "<Figure size 864x360 with 1 Axes>"
            ],
            "image/png": "[encoded data removed]"
          },
          "metadata": {
            "needs_background": "light"
          }
        }
      ]
    },
    {
      "cell_type": "code",
      "source": [
        ""
      ],
      "metadata": {
        "id": "tNXadpW-A1lC"
      },
      "execution_count": null,
      "outputs": []
    },
    {
      "cell_type": "markdown",
      "source": [
        "## Specialized Investment like venturi, seed, equity are more effictivly provides funding to the startups over General Investment round"
      ],
      "metadata": {
        "id": "Z-3uMm3eBcz2"
      }
    },
    {
      "cell_type": "code",
      "source": [
        "x=df[' market '].value_counts().reset_index()\n",
        "trace = go.Bar(x=x['index'],y=x[' market '])\n",
        "data=[trace]\n",
        "layout = go.Layout(title = 'Startup Markets',xaxis={'title':'Market_Zone'},yaxis={'title':'Count'})\n",
        "fig = go.Figure(data=data,layout=layout)\n",
        "pyo.iplot(fig)"
      ],
      "metadata": {
        "colab": {
          "base_uri": "https://localhost:8080/",
          "height": 542
        },
        "id": "hXOC2q9wA1ne",
        "outputId": "5f39e58b-bdb0-456d-8f0f-cae3c55bcf81"
      },
      "execution_count": 21,
      "outputs": [
        {
          "output_type": "display_data",
          "data": {
            "text/html": [
              "<html>\n",
              "<head><meta charset=\"utf-8\" /></head>\n",
              "<body>\n",
              "    <div>            <script src=\"https://cdnjs.cloudflare.com/ajax/libs/mathjax/2.7.5/MathJax.js?config=TeX-AMS-MML_SVG\"></script><script type=\"text/javascript\">if (window.MathJax) {MathJax.Hub.Config({SVG: {font: \"STIX-Web\"}});}</script>                <script type=\"text/javascript\">window.PlotlyConfig = {MathJaxConfig: 'local'};</script>\n",
              "        <script src=\"https://cdn.plot.ly/plotly-2.8.3.min.js\"></script>                <div id=\"0b0d2611-2dbb-45ec-aadb-eb567ae8b860\" class=\"plotly-graph-div\" style=\"height:525px; width:100%;\"></div>            <script type=\"text/javascript\">                                    window.PLOTLYENV=window.PLOTLYENV || {};                                    if (document.getElementById(\"0b0d2611-2dbb-45ec-aadb-eb567ae8b860\")) {                    Plotly.newPlot(                        \"0b0d2611-2dbb-45ec-aadb-eb567ae8b860\",                        [{\"x\":[\" Biotechnology \",\" Software \",\" Mobile \",\" Enterprise Software \",\" Health Care \",\" E-Commerce \",\" Advertising \",\" Clean Technology \",\" Curated Web \",\" Semiconductors \",\" Games \",\" Hardware + Software \",\" Analytics \",\" Finance \",\" Social Media \",\" Security \",\" Web Hosting \",\" Education \",\" Manufacturing \",\" Health and Wellness \",\" Technology \",\" Search \",\" Travel \",\" SaaS \",\" Video \",\" Fashion \",\" Messaging \",\" News \",\" Photography \",\" Cloud Computing \",\" Big Data \",\" Internet \",\" Music \",\" Networking \",\" Hospitality \",\" Wireless \",\" Automotive \",\" Nanotechnology \",\" Entertainment \",\" Transportation \",\" Consulting \",\" Collaboration \",\" Marketplaces \",\" Medical Devices \",\" Real Estate \",\" Enterprises \",\" Social Network Media \",\" Sales and Marketing \",\" Sports \",\" Public Transportation \",\" Apps \",\" Content \",\" Publishing \",\" Web Development \",\" Medical \",\" Marketing Automation \",\" Media \",\" Design \",\" Storage \",\" Payments \",\" Business Services \",\" Online Shopping \",\" Hardware \",\" Solar \",\" Video Streaming \",\" Public Relations \",\" Retail \",\" Databases \",\" Cloud Data Services \",\" Television \",\" Legal \",\" Financial Services \",\" Startups \",\" Recruiting \",\" Virtualization \",\" Testing \",\" Android \",\" Shopping \",\" Health Care Information Technology \",\" File Sharing \",\" Credit \",\" Customer Service \",\" Brand Marketing \",\" Information Technology \",\" Peer-to-Peer \",\" Reviews and Recommendations \",\" Cloud Infrastructure \",\" Big Data Analytics \",\" Consumer Electronics \",\" Communications Hardware \",\" Mobile Payments \",\" Business Intelligence \",\" Tracking \",\" Mobile Advertising \",\" Digital Media \",\" Human Resources \",\" Therapeutics \",\" Services \",\" Crowdsourcing \",\" Pharmaceuticals \",\" Mobile Security \",\" Events \",\" Restaurants \",\" Blogging Platforms \",\" Predictive Analytics \",\" PaaS \",\" Communities \",\" iPhone \",\" Personal Finance \",\" Location Based Services \",\" Hotels \",\" Internet Marketing \",\" Network Security \",\" Twitter Applications \",\" Local \",\" Optimization \",\" Open Source \",\" Data Integration \",\" Loyalty Programs \",\" Internet of Things \",\" Facebook Applications \",\" Consumers \",\" Monetization \",\" Chemicals \",\" Electronics \",\" Web Tools \",\" Mobile Games \",\" VoIP \",\" Cloud Management \",\" Social Media Marketing \",\" Home Automation \",\" Coupons \",\" CRM \",\" Energy \",\" Finance Technology \",\" Productivity Software \",\" Personalization \",\" Email \",\" iOS \",\" Life Sciences \",\" Batteries \",\" Mobile Commerce \",\" Market Research \",\" Real Time \",\" Beauty \",\" Advertising Platforms \",\" Identity Management \",\" Flash Storage \",\" Developer APIs \",\" SEO \",\" SMS \",\" Lifestyle \",\" Cloud Security \",\" Maps \",\" Telecommunications \",\" Risk Management \",\" Nonprofits \",\" Diagnostics \",\" Agriculture \",\" Home & Garden \",\" B2B \",\" Photo Sharing \",\" IT Management \",\" Small and Medium Businesses \",\" Pets \",\" Chat \",\" Online Scheduling \",\" Mobile Software Tools \",\" Aerospace \",\" Data Security \",\" Computers \",\" Classifieds \",\" Consumer Goods \",\" Auctions \",\" Online Video Advertising \",\" Energy Efficiency \",\" Data Centers \",\" Social Commerce \",\" Career Management \",\" Broadcasting \",\" Privacy \",\" Employment \",\" Semantic Web \",\" P2P Money Transfer \",\" Sales Automation \",\" Brokers \",\" Investment Management \",\" Language Learning \",\" Audio \",\" Web CMS \",\" Film \",\" Google Apps \",\" Bitcoin \",\" Social Media Monitoring \",\" Robotics \",\" Local Businesses \",\" Supply Chain Management \",\" Browser Extensions \",\" Clean Energy \",\" Online Reservations \",\" Construction \",\" Email Marketing \",\" Visual Search \",\" Consumer Internet \",\" Displays \",\" Document Management \",\" Video Games \",\" Customer Support Tools \",\" Hospitals \",\" Price Comparison \",\" Concerts \",\" IaaS \",\" Cars \",\" Healthcare Services \",\" Recipes \",\" Group Buying \",\" Printing \",\" Credit Cards \",\" Gps \",\" Wealth Management \",\" Game Mechanics \",\" Kids \",\" Navigation \",\" App Marketing \",\" Point of Sale \",\" Cooking \",\" Machine Learning \",\" Subscription Businesses \",\" Cyber Security \",\" Gambling \",\" Enterprise Search \",\" Physicians \",\" Billing \",\" Fantasy Sports \",\" Commercial Real Estate \",\" Home Decor \",\" Semantic Search \",\" Virtual Worlds \",\" Unifed Communications \",\" All Markets \",\" Web Design \",\" 3D \",\" Creative \",\" Presentations \",\" Banking \",\" Linux \",\" Online Gaming \",\" Application Performance Monitoring \",\" IT and Cybersecurity \",\" Social CRM \",\" Ediscovery \",\" Developer Tools \",\" Lighting \",\" Ticketing \",\" Artificial Intelligence \",\" Accounting \",\" Colleges \",\" Social Buying \",\" Flash Sales \",\" Retail Technology \",\" Translation \",\" Content Discovery \",\" Opinions \",\" Politics \",\" Social Business \",\" Outsourcing \",\" Data Visualization \",\" Social Games \",\" Game \",\" Identity \",\" Smart Grid \",\" Test and Measurement \",\" Graphics \",\" Electronic Health Records \",\" Women \",\" E-Commerce Platforms \",\" Green \",\" Environmental Innovation \",\" Innovation Engineering \",\" Genetic Testing \",\" Renewable Energies \",\" Doctors \",\" Incentives \",\" Freelancers \",\" Online Dating \",\" Collaborative Consumption \",\" Online Rental \",\" Enterprise Application \",\" Data Privacy \",\" Venture Capital \",\" Systems \",\" Enterprise Security \",\" Ad Targeting \",\" Crowdfunding \",\" Task Management \",\" iPad \",\" Local Based Services \",\" Energy Management \",\" Information Security \",\" Advertising Exchanges \",\" Web Browsers \",\" Tech Field Support \",\" Tutoring \",\" Product Design \",\" Fitness \",\" Video on Demand \",\" Mobility \",\" Oil & Gas \",\" Toys \",\" Training \",\" Computer Vision \",\" Mobile Social \",\" Performance Marketing \",\" Surveys \",\" Personal Branding \",\" Development Platforms \",\" Art \",\" Health and Insurance \",\" Bio-Pharm \",\" Discounts \",\" Taxis \",\" Local Search \",\" MMO Games \",\" Geospatial \",\" Data Mining \",\" Entrepreneur \",\" Diabetes \",\" Insurance \",\" Shoes \",\" Water Purification \",\" Material Science \",\" All Students \",\" Mobile Infrastructure \",\" Tablets \",\" Mobile Devices \",\" Sensors \",\" Government Innovation \",\" Tourism \",\" Gift Card \",\" Journalism \",\" Meeting Software \",\" Portals \",\" Employer Benefits Programs \",\" Social Media Advertising \",\" Advice \",\" Guides \",\" Infrastructure \",\" Speech Recognition \",\" Fraud Detection \",\" Professional Services \",\" Contact Management \",\" World Domination \",\" Jewelry \",\" Drones \",\" Business Productivity \",\" Property Management \",\" Direct Marketing \",\" Semiconductor Manufacturing Equipment \",\" Distribution \",\" Face Recognition \",\" Polling \",\" Organic Food \",\" Non Profit \",\" Business Information Systems \",\" Promotional \",\" Auto \",\" Nightclubs \",\" Wine And Spirits \",\" Digital Signage \",\" Local Advertising \",\" Oil \",\" Image Recognition \",\" High Schools \",\" Reputation \",\" Sustainability \",\" Social Bookmarking \",\" Business Development \",\" Social Recruiting \",\" Human Computer Interaction \",\" Enterprise 2.0 \",\" Gamification \",\" Food Processing \",\" Groceries \",\" E-Books \",\" Personal Health \",\" Data Center Automation \",\" Dental \",\" Online Identity \",\" Recycling \",\" Online Travel \",\" Architecture \",\" Clinical Trials \",\" MicroBlogging \",\" Forums \",\" Corporate IT \",\" 3D Printing \",\" Engineering Firms \",\" Mass Customization \",\" SNS \",\" Demographies \",\" Organic \",\" Social Search \",\" NFC \",\" Vacation Rentals \",\" Information Services \",\" Virtual Workforces \",\" Synchronization \",\" Cyber \",\" Mobile Coupons \",\" Certification Test \",\" Virtual Goods \",\" Mobile Health \",\" Financial Exchanges \",\" Windows Phone 7 \",\" Text Analytics \",\" Archiving \",\" Intelligent Systems \",\" Textbooks \",\" Communications Infrastructure \",\" Coworking \",\" Space Travel \",\" Internet TV \",\" Incubators \",\" Match-Making \",\" Specialty Retail \",\" Craigslist Killers \",\" Cosmetics \",\" Service Industries \",\" Music Services \",\" Specialty Foods \",\" Social Media Platforms \",\" Internet Infrastructure \",\" Human Resource Automation \",\" Logistics \",\" Natural Resources \",\" Lead Generation \",\" Infrastructure Builders \",\" Lead Management \",\" Application Platforms \",\" M2M \",\" Career Planning \",\" Mac \",\" Indoor Positioning \",\" Interest Graph \",\" Bicycles \",\" Photo Editing \",\" Coffee \",\" Twin-Tip Skis \",\" High Tech \",\" Resorts \",\" Real Estate Investors \",\" Distributors \",\" Bioinformatics \",\" Cable \",\" Psychology \",\" Shared Services \",\" Telephony \",\" Business Analytics \",\" Interface Design \",\" Electric Vehicles \",\" Creative Industries \",\" Offline Businesses \",\" Plumbers \",\" QR Codes \",\" Product Development Services \",\" Freemium \",\" Content Delivery \",\" Internet Service Providers \",\" B2B Express Delivery \",\" Religion \",\" Data Center Infrastructure \",\" Elder Care \",\" 3D Technology \",\" Project Management \",\" Sunglasses \",\" Digital Entertainment \",\" Teenagers \",\" Mobile Shopping \",\" Proximity Internet \",\" Industrial Energy Efficiency \",\" Trusted Networks \",\" Private Social Networking \",\" User Experience Design \",\" Service Providers \",\" Transaction Processing \",\" Babies \",\" Sponsorship \",\" Corporate Wellness \",\" Utilities \",\" Green Consumer Goods \",\" K-12 Education \",\" Medical Professionals \",\" Social Innovation \",\" Visualization \",\" App Stores \",\" Mobile Analytics \",\" Governance \",\" Biotechnology and Semiconductor \",\" Radical Breakthrough Startups \",\" Parenting \",\" Wholesale \",\" Group SMS \",\" Celebrity \",\" Social Opinion Platform \",\" Commercial Solar \",\" Franchises \",\" English-Speaking \",\" Wind \",\" Lingerie \",\" Virtual Currency \",\" Digital Rights Management \",\" Rapidly Expanding \",\" Parking \",\" Social Travel \",\" Gift Exchange \",\" Remediation \",\" Mining Technologies \",\" Social Media Management \",\" Licensing \",\" Mobile Enterprise \",\" Sporting Goods \",\" RFID \",\" Energy IT \",\" Homeland Security \",\" Content Syndication \",\" Weddings \",\" Law Enforcement \",\" Call Center Automation \",\" Adventure Travel \",\" Trading \",\" Charter Schools \",\" Senior Citizens \",\" Exercise \",\" WebOS \",\" Shipping \",\" Innovation Management \",\" Designers \",\" Corporate Training \",\" China Internet \",\" Sex \",\" Online Auctions \",\" Assisitive Technology \",\" Natural Language Processing \",\" Internet Radio Market \",\" Advertising Networks \",\" Procurement \",\" Intellectual Asset Management \",\" Humanitarian \",\" Soccer \",\" Search Marketing \",\" FreetoPlay Gaming \",\" Content Creators \",\" Q&A \",\" Defense \",\" Enterprise Resource Planning \",\" Artists Globally \",\" Music Education \",\" Leisure \",\" Residential Solar \",\" Handmade \",\" Emerging Markets \",\" Specialty Chemicals \"],\"y\":[2567,2456,1185,1175,1026,968,885,841,701,596,594,532,501,465,431,429,303,273,267,264,257,193,178,174,168,162,155,142,130,123,116,114,112,108,102,99,98,97,97,96,89,86,81,80,74,72,70,67,64,63,63,62,62,60,60,59,59,56,56,55,55,54,54,53,52,52,51,50,49,49,49,47,47,46,45,44,43,43,43,43,42,42,41,41,41,40,40,40,40,40,40,39,39,38,37,37,37,37,36,36,36,36,36,35,35,35,34,34,34,34,33,33,33,32,31,31,31,30,30,29,28,28,28,28,28,28,27,27,27,27,26,25,25,25,25,24,24,24,24,24,24,23,23,23,23,23,22,22,22,21,21,21,21,21,20,20,20,20,20,19,19,19,19,18,18,18,18,18,18,18,17,17,17,17,17,17,17,16,16,16,16,16,16,15,15,14,14,14,14,14,14,14,14,14,14,14,13,13,13,13,13,13,13,13,13,13,13,12,12,12,12,12,12,12,12,12,12,11,11,11,11,11,11,11,11,10,10,10,10,10,10,10,10,10,10,10,10,10,10,10,10,10,10,10,10,10,10,10,9,9,9,9,9,9,9,9,9,9,9,9,9,9,9,9,9,9,9,9,9,8,8,8,8,8,8,8,8,8,8,8,8,8,8,8,8,8,8,8,8,8,8,8,8,8,8,7,7,7,7,7,7,7,7,7,7,7,7,7,7,7,7,7,7,7,6,6,6,6,6,6,6,6,6,6,6,6,6,6,6,6,6,6,6,6,6,6,6,6,6,6,5,5,5,5,5,5,5,5,5,5,5,5,5,5,4,4,4,4,4,4,4,4,4,4,4,4,4,4,4,4,4,4,4,4,4,4,4,4,4,4,4,4,4,4,4,4,4,4,4,4,4,4,4,4,4,4,3,3,3,3,3,3,3,3,3,3,3,3,3,3,3,3,3,3,3,3,3,3,3,3,3,3,3,3,3,3,3,3,3,3,3,3,3,3,3,3,3,3,3,3,2,2,2,2,2,2,2,2,2,2,2,2,2,2,2,2,2,2,2,2,2,2,2,2,2,2,2,2,2,2,2,2,2,2,2,2,2,2,2,2,2,2,2,2,2,2,2,2,2,2,2,2,2,2,2,2,2,2,2,1,1,1,1,1,1,1,1,1,1,1,1,1,1,1,1,1,1,1,1,1,1,1,1,1,1,1,1,1,1,1,1,1,1,1,1,1,1,1,1,1,1,1,1,1,1,1,1,1,1,1,1,1,1,1,1,1,1,1,1,1,1,1],\"type\":\"bar\"}],                        {\"template\":{\"data\":{\"barpolar\":[{\"marker\":{\"line\":{\"color\":\"#E5ECF6\",\"width\":0.5},\"pattern\":{\"fillmode\":\"overlay\",\"size\":10,\"solidity\":0.2}},\"type\":\"barpolar\"}],\"bar\":[{\"error_x\":{\"color\":\"#2a3f5f\"},\"error_y\":{\"color\":\"#2a3f5f\"},\"marker\":{\"line\":{\"color\":\"#E5ECF6\",\"width\":0.5},\"pattern\":{\"fillmode\":\"overlay\",\"size\":10,\"solidity\":0.2}},\"type\":\"bar\"}],\"carpet\":[{\"aaxis\":{\"endlinecolor\":\"#2a3f5f\",\"gridcolor\":\"white\",\"linecolor\":\"white\",\"minorgridcolor\":\"white\",\"startlinecolor\":\"#2a3f5f\"},\"baxis\":{\"endlinecolor\":\"#2a3f5f\",\"gridcolor\":\"white\",\"linecolor\":\"white\",\"minorgridcolor\":\"white\",\"startlinecolor\":\"#2a3f5f\"},\"type\":\"carpet\"}],\"choropleth\":[{\"colorbar\":{\"outlinewidth\":0,\"ticks\":\"\"},\"type\":\"choropleth\"}],\"contourcarpet\":[{\"colorbar\":{\"outlinewidth\":0,\"ticks\":\"\"},\"type\":\"contourcarpet\"}],\"contour\":[{\"colorbar\":{\"outlinewidth\":0,\"ticks\":\"\"},\"colorscale\":[[0.0,\"#0d0887\"],[0.1111111111111111,\"#46039f\"],[0.2222222222222222,\"#7201a8\"],[0.3333333333333333,\"#9c179e\"],[0.4444444444444444,\"#bd3786\"],[0.5555555555555556,\"#d8576b\"],[0.6666666666666666,\"#ed7953\"],[0.7777777777777778,\"#fb9f3a\"],[0.8888888888888888,\"#fdca26\"],[1.0,\"#f0f921\"]],\"type\":\"contour\"}],\"heatmapgl\":[{\"colorbar\":{\"outlinewidth\":0,\"ticks\":\"\"},\"colorscale\":[[0.0,\"#0d0887\"],[0.1111111111111111,\"#46039f\"],[0.2222222222222222,\"#7201a8\"],[0.3333333333333333,\"#9c179e\"],[0.4444444444444444,\"#bd3786\"],[0.5555555555555556,\"#d8576b\"],[0.6666666666666666,\"#ed7953\"],[0.7777777777777778,\"#fb9f3a\"],[0.8888888888888888,\"#fdca26\"],[1.0,\"#f0f921\"]],\"type\":\"heatmapgl\"}],\"heatmap\":[{\"colorbar\":{\"outlinewidth\":0,\"ticks\":\"\"},\"colorscale\":[[0.0,\"#0d0887\"],[0.1111111111111111,\"#46039f\"],[0.2222222222222222,\"#7201a8\"],[0.3333333333333333,\"#9c179e\"],[0.4444444444444444,\"#bd3786\"],[0.5555555555555556,\"#d8576b\"],[0.6666666666666666,\"#ed7953\"],[0.7777777777777778,\"#fb9f3a\"],[0.8888888888888888,\"#fdca26\"],[1.0,\"#f0f921\"]],\"type\":\"heatmap\"}],\"histogram2dcontour\":[{\"colorbar\":{\"outlinewidth\":0,\"ticks\":\"\"},\"colorscale\":[[0.0,\"#0d0887\"],[0.1111111111111111,\"#46039f\"],[0.2222222222222222,\"#7201a8\"],[0.3333333333333333,\"#9c179e\"],[0.4444444444444444,\"#bd3786\"],[0.5555555555555556,\"#d8576b\"],[0.6666666666666666,\"#ed7953\"],[0.7777777777777778,\"#fb9f3a\"],[0.8888888888888888,\"#fdca26\"],[1.0,\"#f0f921\"]],\"type\":\"histogram2dcontour\"}],\"histogram2d\":[{\"colorbar\":{\"outlinewidth\":0,\"ticks\":\"\"},\"colorscale\":[[0.0,\"#0d0887\"],[0.1111111111111111,\"#46039f\"],[0.2222222222222222,\"#7201a8\"],[0.3333333333333333,\"#9c179e\"],[0.4444444444444444,\"#bd3786\"],[0.5555555555555556,\"#d8576b\"],[0.6666666666666666,\"#ed7953\"],[0.7777777777777778,\"#fb9f3a\"],[0.8888888888888888,\"#fdca26\"],[1.0,\"#f0f921\"]],\"type\":\"histogram2d\"}],\"histogram\":[{\"marker\":{\"pattern\":{\"fillmode\":\"overlay\",\"size\":10,\"solidity\":0.2}},\"type\":\"histogram\"}],\"mesh3d\":[{\"colorbar\":{\"outlinewidth\":0,\"ticks\":\"\"},\"type\":\"mesh3d\"}],\"parcoords\":[{\"line\":{\"colorbar\":{\"outlinewidth\":0,\"ticks\":\"\"}},\"type\":\"parcoords\"}],\"pie\":[{\"automargin\":true,\"type\":\"pie\"}],\"scatter3d\":[{\"line\":{\"colorbar\":{\"outlinewidth\":0,\"ticks\":\"\"}},\"marker\":{\"colorbar\":{\"outlinewidth\":0,\"ticks\":\"\"}},\"type\":\"scatter3d\"}],\"scattercarpet\":[{\"marker\":{\"colorbar\":{\"outlinewidth\":0,\"ticks\":\"\"}},\"type\":\"scattercarpet\"}],\"scattergeo\":[{\"marker\":{\"colorbar\":{\"outlinewidth\":0,\"ticks\":\"\"}},\"type\":\"scattergeo\"}],\"scattergl\":[{\"marker\":{\"colorbar\":{\"outlinewidth\":0,\"ticks\":\"\"}},\"type\":\"scattergl\"}],\"scattermapbox\":[{\"marker\":{\"colorbar\":{\"outlinewidth\":0,\"ticks\":\"\"}},\"type\":\"scattermapbox\"}],\"scatterpolargl\":[{\"marker\":{\"colorbar\":{\"outlinewidth\":0,\"ticks\":\"\"}},\"type\":\"scatterpolargl\"}],\"scatterpolar\":[{\"marker\":{\"colorbar\":{\"outlinewidth\":0,\"ticks\":\"\"}},\"type\":\"scatterpolar\"}],\"scatter\":[{\"marker\":{\"colorbar\":{\"outlinewidth\":0,\"ticks\":\"\"}},\"type\":\"scatter\"}],\"scatterternary\":[{\"marker\":{\"colorbar\":{\"outlinewidth\":0,\"ticks\":\"\"}},\"type\":\"scatterternary\"}],\"surface\":[{\"colorbar\":{\"outlinewidth\":0,\"ticks\":\"\"},\"colorscale\":[[0.0,\"#0d0887\"],[0.1111111111111111,\"#46039f\"],[0.2222222222222222,\"#7201a8\"],[0.3333333333333333,\"#9c179e\"],[0.4444444444444444,\"#bd3786\"],[0.5555555555555556,\"#d8576b\"],[0.6666666666666666,\"#ed7953\"],[0.7777777777777778,\"#fb9f3a\"],[0.8888888888888888,\"#fdca26\"],[1.0,\"#f0f921\"]],\"type\":\"surface\"}],\"table\":[{\"cells\":{\"fill\":{\"color\":\"#EBF0F8\"},\"line\":{\"color\":\"white\"}},\"header\":{\"fill\":{\"color\":\"#C8D4E3\"},\"line\":{\"color\":\"white\"}},\"type\":\"table\"}]},\"layout\":{\"annotationdefaults\":{\"arrowcolor\":\"#2a3f5f\",\"arrowhead\":0,\"arrowwidth\":1},\"autotypenumbers\":\"strict\",\"coloraxis\":{\"colorbar\":{\"outlinewidth\":0,\"ticks\":\"\"}},\"colorscale\":{\"diverging\":[[0,\"#8e0152\"],[0.1,\"#c51b7d\"],[0.2,\"#de77ae\"],[0.3,\"#f1b6da\"],[0.4,\"#fde0ef\"],[0.5,\"#f7f7f7\"],[0.6,\"#e6f5d0\"],[0.7,\"#b8e186\"],[0.8,\"#7fbc41\"],[0.9,\"#4d9221\"],[1,\"#276419\"]],\"sequential\":[[0.0,\"#0d0887\"],[0.1111111111111111,\"#46039f\"],[0.2222222222222222,\"#7201a8\"],[0.3333333333333333,\"#9c179e\"],[0.4444444444444444,\"#bd3786\"],[0.5555555555555556,\"#d8576b\"],[0.6666666666666666,\"#ed7953\"],[0.7777777777777778,\"#fb9f3a\"],[0.8888888888888888,\"#fdca26\"],[1.0,\"#f0f921\"]],\"sequentialminus\":[[0.0,\"#0d0887\"],[0.1111111111111111,\"#46039f\"],[0.2222222222222222,\"#7201a8\"],[0.3333333333333333,\"#9c179e\"],[0.4444444444444444,\"#bd3786\"],[0.5555555555555556,\"#d8576b\"],[0.6666666666666666,\"#ed7953\"],[0.7777777777777778,\"#fb9f3a\"],[0.8888888888888888,\"#fdca26\"],[1.0,\"#f0f921\"]]},\"colorway\":[\"#636efa\",\"#EF553B\",\"#00cc96\",\"#ab63fa\",\"#FFA15A\",\"#19d3f3\",\"#FF6692\",\"#B6E880\",\"#FF97FF\",\"#FECB52\"],\"font\":{\"color\":\"#2a3f5f\"},\"geo\":{\"bgcolor\":\"white\",\"lakecolor\":\"white\",\"landcolor\":\"#E5ECF6\",\"showlakes\":true,\"showland\":true,\"subunitcolor\":\"white\"},\"hoverlabel\":{\"align\":\"left\"},\"hovermode\":\"closest\",\"mapbox\":{\"style\":\"light\"},\"paper_bgcolor\":\"white\",\"plot_bgcolor\":\"#E5ECF6\",\"polar\":{\"angularaxis\":{\"gridcolor\":\"white\",\"linecolor\":\"white\",\"ticks\":\"\"},\"bgcolor\":\"#E5ECF6\",\"radialaxis\":{\"gridcolor\":\"white\",\"linecolor\":\"white\",\"ticks\":\"\"}},\"scene\":{\"xaxis\":{\"backgroundcolor\":\"#E5ECF6\",\"gridcolor\":\"white\",\"gridwidth\":2,\"linecolor\":\"white\",\"showbackground\":true,\"ticks\":\"\",\"zerolinecolor\":\"white\"},\"yaxis\":{\"backgroundcolor\":\"#E5ECF6\",\"gridcolor\":\"white\",\"gridwidth\":2,\"linecolor\":\"white\",\"showbackground\":true,\"ticks\":\"\",\"zerolinecolor\":\"white\"},\"zaxis\":{\"backgroundcolor\":\"#E5ECF6\",\"gridcolor\":\"white\",\"gridwidth\":2,\"linecolor\":\"white\",\"showbackground\":true,\"ticks\":\"\",\"zerolinecolor\":\"white\"}},\"shapedefaults\":{\"line\":{\"color\":\"#2a3f5f\"}},\"ternary\":{\"aaxis\":{\"gridcolor\":\"white\",\"linecolor\":\"white\",\"ticks\":\"\"},\"baxis\":{\"gridcolor\":\"white\",\"linecolor\":\"white\",\"ticks\":\"\"},\"bgcolor\":\"#E5ECF6\",\"caxis\":{\"gridcolor\":\"white\",\"linecolor\":\"white\",\"ticks\":\"\"}},\"title\":{\"x\":0.05},\"xaxis\":{\"automargin\":true,\"gridcolor\":\"white\",\"linecolor\":\"white\",\"ticks\":\"\",\"title\":{\"standoff\":15},\"zerolinecolor\":\"white\",\"zerolinewidth\":2},\"yaxis\":{\"automargin\":true,\"gridcolor\":\"white\",\"linecolor\":\"white\",\"ticks\":\"\",\"title\":{\"standoff\":15},\"zerolinecolor\":\"white\",\"zerolinewidth\":2}}},\"title\":{\"text\":\"Startup Markets\"},\"xaxis\":{\"title\":{\"text\":\"Market_Zone\"}},\"yaxis\":{\"title\":{\"text\":\"Count\"}}},                        {\"responsive\": true}                    ).then(function(){\n",
              "                            \n",
              "var gd = document.getElementById('0b0d2611-2dbb-45ec-aadb-eb567ae8b860');\n",
              "var x = new MutationObserver(function (mutations, observer) {{\n",
              "        var display = window.getComputedStyle(gd).display;\n",
              "        if (!display || display === 'none') {{\n",
              "            console.log([gd, 'removed!']);\n",
              "            Plotly.purge(gd);\n",
              "            observer.disconnect();\n",
              "        }}\n",
              "}});\n",
              "\n",
              "// Listen for the removal of the full notebook cells\n",
              "var notebookContainer = gd.closest('#notebook-container');\n",
              "if (notebookContainer) {{\n",
              "    x.observe(notebookContainer, {childList: true});\n",
              "}}\n",
              "\n",
              "// Listen for the clearing of the current output cell\n",
              "var outputEl = gd.closest('.output');\n",
              "if (outputEl) {{\n",
              "    x.observe(outputEl, {childList: true});\n",
              "}}\n",
              "\n",
              "                        })                };                            </script>        </div>\n",
              "</body>\n",
              "</html>"
            ]
          },
          "metadata": {}
        }
      ]
    },
    {
      "cell_type": "markdown",
      "source": [
        "## World Wide successful startup markets"
      ],
      "metadata": {
        "id": "veiaN2F5BmZO"
      }
    },
    {
      "cell_type": "code",
      "source": [
        "df[df['founded_year'].isna()]"
      ],
      "metadata": {
        "colab": {
          "base_uri": "https://localhost:8080/",
          "height": 627
        },
        "id": "bhaveL4vBn0W",
        "outputId": "5dc4555f-760d-40f7-f21d-cb6c4d5451dc"
      },
      "execution_count": 22,
      "outputs": [
        {
          "output_type": "execute_result",
          "data": {
            "text/plain": [
              "                                      permalink                      name  \\\n",
              "816                      /organization/actacell                  Actacell   \n",
              "1685          /organization/airway-therapeutics       Airway Therapeutics   \n",
              "2239      /organization/american-hometown-media   American Hometown Media   \n",
              "3808                    /organization/auspherix                 Auspherix   \n",
              "4137                     /organization/ayalogic                  Ayalogic   \n",
              "...                                         ...                       ...   \n",
              "3718538  /organization/cyclacel-pharmaceuticals  Cyclacel Pharmaceuticals   \n",
              "3787389                    /organization/omeros                    Omeros   \n",
              "4182885                    /organization/omeros                    Omeros   \n",
              "4762187                    /organization/fuel3d                    Fuel3D   \n",
              "4773459                   /organization/moov-cc                  Moov cc.   \n",
              "\n",
              "                                 homepage_url  \\\n",
              "816                   http://www.actacell.com   \n",
              "1685        http://www.airwaytherapeutics.com   \n",
              "2239     http://www.americanhometownmedia.com   \n",
              "3808                                      NaN   \n",
              "4137                         http://imvox.com   \n",
              "...                                       ...   \n",
              "3718538                   http://cyclacel.com   \n",
              "3787389                 http://www.omeros.com   \n",
              "4182885                 http://www.omeros.com   \n",
              "4762187                http://www.fuel-3d.com   \n",
              "4773459                        http://moov.cc   \n",
              "\n",
              "                                             category_list  \\\n",
              "816                     Search,Batteries,Clean,Technology,   \n",
              "1685                                        Biotechnology,   \n",
              "2239                                                   NaN   \n",
              "3808                                          Health,Care,   \n",
              "4137                                Chat,Audio,VoIP,Games,   \n",
              "...                                                    ...   \n",
              "3718538                                     Biotechnology,   \n",
              "3787389                         Health,Care,Biotechnology,   \n",
              "4182885                         Health,Care,Biotechnology,   \n",
              "4762187              3D,3D,Technology,Hardware,,,Software,   \n",
              "4773459  Consumer,Electronics,Fitness,Sports,Health,and...   \n",
              "\n",
              "                    market   funding_total_usd      status country_code  \\\n",
              "816       Clean Technology           98,00,000    acquired          USA   \n",
              "1685         Biotechnology           51,00,000   operating          USA   \n",
              "2239                    NaN          55,19,437   operating          USA   \n",
              "3808           Health Care           18,55,753   operating          NOR   \n",
              "4137                  VoIP           10,71,500      closed          NaN   \n",
              "...                     ...                 ...        ...          ...   \n",
              "3718538      Biotechnology        13,21,88,186   operating          USA   \n",
              "3787389        Health Care        13,28,00,000   operating          USA   \n",
              "4182885        Health Care        13,28,00,000   operating          USA   \n",
              "4762187      3D Technology           91,40,352   operating          USA   \n",
              "4773459             Sports           40,00,000   operating          USA   \n",
              "\n",
              "        state_code                      region  ... founded_at  founded_month  \\\n",
              "816             TX                      Austin  ...        NaN            NaN   \n",
              "1685            OH                  Cincinnati  ...        NaN            NaN   \n",
              "2239            TN                   Nashville  ...        NaN            NaN   \n",
              "3808           NaN                  Aust-Agder  ...        NaN            NaN   \n",
              "4137           NaN                         NaN  ...        NaN            NaN   \n",
              "...            ...                         ...  ...        ...            ...   \n",
              "3718538         NJ                      Newark  ...        NaN            NaN   \n",
              "3787389         WA                     Seattle  ...        NaN            NaN   \n",
              "4182885         WA                     Seattle  ...        NaN            NaN   \n",
              "4762187         NC  Greenville, North Carolina  ...        NaN            NaN   \n",
              "4773459         KY                  KY - Other  ...        NaN            NaN   \n",
              "\n",
              "        founded_quarter founded_year first_funding_at  last_funding_at  \\\n",
              "816                 NaN          NaN       2008-07-22       2010-12-29   \n",
              "1685                NaN          NaN       2011-06-06       2014-09-10   \n",
              "2239                NaN          NaN       2011-12-09       2013-03-01   \n",
              "3808                NaN          NaN       2013-12-03       2014-10-23   \n",
              "4137                NaN          NaN       2004-10-31       2010-11-15   \n",
              "...                 ...          ...              ...              ...   \n",
              "3718538             NaN          NaN       1999-05-01       2014-04-10   \n",
              "3787389             NaN          NaN       2007-02-12       2014-03-20   \n",
              "4182885             NaN          NaN       2007-02-12       2014-03-20   \n",
              "4762187             NaN          NaN       2013-09-04       2014-11-04   \n",
              "4773459             NaN          NaN       2014-03-14       2014-10-22   \n",
              "\n",
              "        gen_funding_round funding_amount     invest_round_type  amount_given  \n",
              "816               round_A      5800000.0                  seed     1000000.0  \n",
              "1685              round_A      4600000.0                  seed      500000.0  \n",
              "2239              round_A      1655701.0                  seed     3863736.0  \n",
              "3808              round_A       877127.0                  seed      978626.0  \n",
              "4137              round_A       296500.0                  seed      270000.0  \n",
              "...                   ...            ...                   ...           ...  \n",
              "3718538           round_D     38769109.0       post_ipo_equity    10000000.0  \n",
              "3787389           round_E     63000000.0       post_ipo_equity    37800000.0  \n",
              "4182885           round_E     63000000.0         post_ipo_debt    32000000.0  \n",
              "4762187           round_A      8815352.0  product_crowdfunding      325000.0  \n",
              "4773459           round_A      3000000.0  product_crowdfunding     1000000.0  \n",
              "\n",
              "[3328 rows x 22 columns]"
            ],
            "text/html": [
              "\n",
              "  <div id=\"df-721db128-1e37-453b-9313-a0ace76efb01\">\n",
              "    <div class=\"colab-df-container\">\n",
              "      <div>\n",
              "<style scoped>\n",
              "    .dataframe tbody tr th:only-of-type {\n",
              "        vertical-align: middle;\n",
              "    }\n",
              "\n",
              "    .dataframe tbody tr th {\n",
              "        vertical-align: top;\n",
              "    }\n",
              "\n",
              "    .dataframe thead th {\n",
              "        text-align: right;\n",
              "    }\n",
              "</style>\n",
              "<table border=\"1\" class=\"dataframe\">\n",
              "  <thead>\n",
              "    <tr style=\"text-align: right;\">\n",
              "      <th></th>\n",
              "      <th>permalink</th>\n",
              "      <th>name</th>\n",
              "      <th>homepage_url</th>\n",
              "      <th>category_list</th>\n",
              "      <th>market</th>\n",
              "      <th>funding_total_usd</th>\n",
              "      <th>status</th>\n",
              "      <th>country_code</th>\n",
              "      <th>state_code</th>\n",
              "      <th>region</th>\n",
              "      <th>...</th>\n",
              "      <th>founded_at</th>\n",
              "      <th>founded_month</th>\n",
              "      <th>founded_quarter</th>\n",
              "      <th>founded_year</th>\n",
              "      <th>first_funding_at</th>\n",
              "      <th>last_funding_at</th>\n",
              "      <th>gen_funding_round</th>\n",
              "      <th>funding_amount</th>\n",
              "      <th>invest_round_type</th>\n",
              "      <th>amount_given</th>\n",
              "    </tr>\n",
              "  </thead>\n",
              "  <tbody>\n",
              "    <tr>\n",
              "      <th>816</th>\n",
              "      <td>/organization/actacell</td>\n",
              "      <td>Actacell</td>\n",
              "      <td>http://www.actacell.com</td>\n",
              "      <td>Search,Batteries,Clean,Technology,</td>\n",
              "      <td>Clean Technology</td>\n",
              "      <td>98,00,000</td>\n",
              "      <td>acquired</td>\n",
              "      <td>USA</td>\n",
              "      <td>TX</td>\n",
              "      <td>Austin</td>\n",
              "      <td>...</td>\n",
              "      <td>NaN</td>\n",
              "      <td>NaN</td>\n",
              "      <td>NaN</td>\n",
              "      <td>NaN</td>\n",
              "      <td>2008-07-22</td>\n",
              "      <td>2010-12-29</td>\n",
              "      <td>round_A</td>\n",
              "      <td>5800000.0</td>\n",
              "      <td>seed</td>\n",
              "      <td>1000000.0</td>\n",
              "    </tr>\n",
              "    <tr>\n",
              "      <th>1685</th>\n",
              "      <td>/organization/airway-therapeutics</td>\n",
              "      <td>Airway Therapeutics</td>\n",
              "      <td>http://www.airwaytherapeutics.com</td>\n",
              "      <td>Biotechnology,</td>\n",
              "      <td>Biotechnology</td>\n",
              "      <td>51,00,000</td>\n",
              "      <td>operating</td>\n",
              "      <td>USA</td>\n",
              "      <td>OH</td>\n",
              "      <td>Cincinnati</td>\n",
              "      <td>...</td>\n",
              "      <td>NaN</td>\n",
              "      <td>NaN</td>\n",
              "      <td>NaN</td>\n",
              "      <td>NaN</td>\n",
              "      <td>2011-06-06</td>\n",
              "      <td>2014-09-10</td>\n",
              "      <td>round_A</td>\n",
              "      <td>4600000.0</td>\n",
              "      <td>seed</td>\n",
              "      <td>500000.0</td>\n",
              "    </tr>\n",
              "    <tr>\n",
              "      <th>2239</th>\n",
              "      <td>/organization/american-hometown-media</td>\n",
              "      <td>American Hometown Media</td>\n",
              "      <td>http://www.americanhometownmedia.com</td>\n",
              "      <td>NaN</td>\n",
              "      <td>NaN</td>\n",
              "      <td>55,19,437</td>\n",
              "      <td>operating</td>\n",
              "      <td>USA</td>\n",
              "      <td>TN</td>\n",
              "      <td>Nashville</td>\n",
              "      <td>...</td>\n",
              "      <td>NaN</td>\n",
              "      <td>NaN</td>\n",
              "      <td>NaN</td>\n",
              "      <td>NaN</td>\n",
              "      <td>2011-12-09</td>\n",
              "      <td>2013-03-01</td>\n",
              "      <td>round_A</td>\n",
              "      <td>1655701.0</td>\n",
              "      <td>seed</td>\n",
              "      <td>3863736.0</td>\n",
              "    </tr>\n",
              "    <tr>\n",
              "      <th>3808</th>\n",
              "      <td>/organization/auspherix</td>\n",
              "      <td>Auspherix</td>\n",
              "      <td>NaN</td>\n",
              "      <td>Health,Care,</td>\n",
              "      <td>Health Care</td>\n",
              "      <td>18,55,753</td>\n",
              "      <td>operating</td>\n",
              "      <td>NOR</td>\n",
              "      <td>NaN</td>\n",
              "      <td>Aust-Agder</td>\n",
              "      <td>...</td>\n",
              "      <td>NaN</td>\n",
              "      <td>NaN</td>\n",
              "      <td>NaN</td>\n",
              "      <td>NaN</td>\n",
              "      <td>2013-12-03</td>\n",
              "      <td>2014-10-23</td>\n",
              "      <td>round_A</td>\n",
              "      <td>877127.0</td>\n",
              "      <td>seed</td>\n",
              "      <td>978626.0</td>\n",
              "    </tr>\n",
              "    <tr>\n",
              "      <th>4137</th>\n",
              "      <td>/organization/ayalogic</td>\n",
              "      <td>Ayalogic</td>\n",
              "      <td>http://imvox.com</td>\n",
              "      <td>Chat,Audio,VoIP,Games,</td>\n",
              "      <td>VoIP</td>\n",
              "      <td>10,71,500</td>\n",
              "      <td>closed</td>\n",
              "      <td>NaN</td>\n",
              "      <td>NaN</td>\n",
              "      <td>NaN</td>\n",
              "      <td>...</td>\n",
              "      <td>NaN</td>\n",
              "      <td>NaN</td>\n",
              "      <td>NaN</td>\n",
              "      <td>NaN</td>\n",
              "      <td>2004-10-31</td>\n",
              "      <td>2010-11-15</td>\n",
              "      <td>round_A</td>\n",
              "      <td>296500.0</td>\n",
              "      <td>seed</td>\n",
              "      <td>270000.0</td>\n",
              "    </tr>\n",
              "    <tr>\n",
              "      <th>...</th>\n",
              "      <td>...</td>\n",
              "      <td>...</td>\n",
              "      <td>...</td>\n",
              "      <td>...</td>\n",
              "      <td>...</td>\n",
              "      <td>...</td>\n",
              "      <td>...</td>\n",
              "      <td>...</td>\n",
              "      <td>...</td>\n",
              "      <td>...</td>\n",
              "      <td>...</td>\n",
              "      <td>...</td>\n",
              "      <td>...</td>\n",
              "      <td>...</td>\n",
              "      <td>...</td>\n",
              "      <td>...</td>\n",
              "      <td>...</td>\n",
              "      <td>...</td>\n",
              "      <td>...</td>\n",
              "      <td>...</td>\n",
              "      <td>...</td>\n",
              "    </tr>\n",
              "    <tr>\n",
              "      <th>3718538</th>\n",
              "      <td>/organization/cyclacel-pharmaceuticals</td>\n",
              "      <td>Cyclacel Pharmaceuticals</td>\n",
              "      <td>http://cyclacel.com</td>\n",
              "      <td>Biotechnology,</td>\n",
              "      <td>Biotechnology</td>\n",
              "      <td>13,21,88,186</td>\n",
              "      <td>operating</td>\n",
              "      <td>USA</td>\n",
              "      <td>NJ</td>\n",
              "      <td>Newark</td>\n",
              "      <td>...</td>\n",
              "      <td>NaN</td>\n",
              "      <td>NaN</td>\n",
              "      <td>NaN</td>\n",
              "      <td>NaN</td>\n",
              "      <td>1999-05-01</td>\n",
              "      <td>2014-04-10</td>\n",
              "      <td>round_D</td>\n",
              "      <td>38769109.0</td>\n",
              "      <td>post_ipo_equity</td>\n",
              "      <td>10000000.0</td>\n",
              "    </tr>\n",
              "    <tr>\n",
              "      <th>3787389</th>\n",
              "      <td>/organization/omeros</td>\n",
              "      <td>Omeros</td>\n",
              "      <td>http://www.omeros.com</td>\n",
              "      <td>Health,Care,Biotechnology,</td>\n",
              "      <td>Health Care</td>\n",
              "      <td>13,28,00,000</td>\n",
              "      <td>operating</td>\n",
              "      <td>USA</td>\n",
              "      <td>WA</td>\n",
              "      <td>Seattle</td>\n",
              "      <td>...</td>\n",
              "      <td>NaN</td>\n",
              "      <td>NaN</td>\n",
              "      <td>NaN</td>\n",
              "      <td>NaN</td>\n",
              "      <td>2007-02-12</td>\n",
              "      <td>2014-03-20</td>\n",
              "      <td>round_E</td>\n",
              "      <td>63000000.0</td>\n",
              "      <td>post_ipo_equity</td>\n",
              "      <td>37800000.0</td>\n",
              "    </tr>\n",
              "    <tr>\n",
              "      <th>4182885</th>\n",
              "      <td>/organization/omeros</td>\n",
              "      <td>Omeros</td>\n",
              "      <td>http://www.omeros.com</td>\n",
              "      <td>Health,Care,Biotechnology,</td>\n",
              "      <td>Health Care</td>\n",
              "      <td>13,28,00,000</td>\n",
              "      <td>operating</td>\n",
              "      <td>USA</td>\n",
              "      <td>WA</td>\n",
              "      <td>Seattle</td>\n",
              "      <td>...</td>\n",
              "      <td>NaN</td>\n",
              "      <td>NaN</td>\n",
              "      <td>NaN</td>\n",
              "      <td>NaN</td>\n",
              "      <td>2007-02-12</td>\n",
              "      <td>2014-03-20</td>\n",
              "      <td>round_E</td>\n",
              "      <td>63000000.0</td>\n",
              "      <td>post_ipo_debt</td>\n",
              "      <td>32000000.0</td>\n",
              "    </tr>\n",
              "    <tr>\n",
              "      <th>4762187</th>\n",
              "      <td>/organization/fuel3d</td>\n",
              "      <td>Fuel3D</td>\n",
              "      <td>http://www.fuel-3d.com</td>\n",
              "      <td>3D,3D,Technology,Hardware,,,Software,</td>\n",
              "      <td>3D Technology</td>\n",
              "      <td>91,40,352</td>\n",
              "      <td>operating</td>\n",
              "      <td>USA</td>\n",
              "      <td>NC</td>\n",
              "      <td>Greenville, North Carolina</td>\n",
              "      <td>...</td>\n",
              "      <td>NaN</td>\n",
              "      <td>NaN</td>\n",
              "      <td>NaN</td>\n",
              "      <td>NaN</td>\n",
              "      <td>2013-09-04</td>\n",
              "      <td>2014-11-04</td>\n",
              "      <td>round_A</td>\n",
              "      <td>8815352.0</td>\n",
              "      <td>product_crowdfunding</td>\n",
              "      <td>325000.0</td>\n",
              "    </tr>\n",
              "    <tr>\n",
              "      <th>4773459</th>\n",
              "      <td>/organization/moov-cc</td>\n",
              "      <td>Moov cc.</td>\n",
              "      <td>http://moov.cc</td>\n",
              "      <td>Consumer,Electronics,Fitness,Sports,Health,and...</td>\n",
              "      <td>Sports</td>\n",
              "      <td>40,00,000</td>\n",
              "      <td>operating</td>\n",
              "      <td>USA</td>\n",
              "      <td>KY</td>\n",
              "      <td>KY - Other</td>\n",
              "      <td>...</td>\n",
              "      <td>NaN</td>\n",
              "      <td>NaN</td>\n",
              "      <td>NaN</td>\n",
              "      <td>NaN</td>\n",
              "      <td>2014-03-14</td>\n",
              "      <td>2014-10-22</td>\n",
              "      <td>round_A</td>\n",
              "      <td>3000000.0</td>\n",
              "      <td>product_crowdfunding</td>\n",
              "      <td>1000000.0</td>\n",
              "    </tr>\n",
              "  </tbody>\n",
              "</table>\n",
              "<p>3328 rows × 22 columns</p>\n",
              "</div>\n",
              "      <button class=\"colab-df-convert\" onclick=\"convertToInteractive('df-721db128-1e37-453b-9313-a0ace76efb01')\"\n",
              "              title=\"Convert this dataframe to an interactive table.\"\n",
              "              style=\"display:none;\">\n",
              "        \n",
              "  <svg xmlns=\"http://www.w3.org/2000/svg\" height=\"24px\"viewBox=\"0 0 24 24\"\n",
              "       width=\"24px\">\n",
              "    <path d=\"M0 0h24v24H0V0z\" fill=\"none\"/>\n",
              "    <path d=\"M18.56 5.44l.94 2.06.94-2.06 2.06-.94-2.06-.94-.94-2.06-.94 2.06-2.06.94zm-11 1L8.5 8.5l.94-2.06 2.06-.94-2.06-.94L8.5 2.5l-.94 2.06-2.06.94zm10 10l.94 2.06.94-2.06 2.06-.94-2.06-.94-.94-2.06-.94 2.06-2.06.94z\"/><path d=\"M17.41 7.96l-1.37-1.37c-.4-.4-.92-.59-1.43-.59-.52 0-1.04.2-1.43.59L10.3 9.45l-7.72 7.72c-.78.78-.78 2.05 0 2.83L4 21.41c.39.39.9.59 1.41.59.51 0 1.02-.2 1.41-.59l7.78-7.78 2.81-2.81c.8-.78.8-2.07 0-2.86zM5.41 20L4 18.59l7.72-7.72 1.47 1.35L5.41 20z\"/>\n",
              "  </svg>\n",
              "      </button>\n",
              "      \n",
              "  <style>\n",
              "    .colab-df-container {\n",
              "      display:flex;\n",
              "      flex-wrap:wrap;\n",
              "      gap: 12px;\n",
              "    }\n",
              "\n",
              "    .colab-df-convert {\n",
              "      background-color: #E8F0FE;\n",
              "      border: none;\n",
              "      border-radius: 50%;\n",
              "      cursor: pointer;\n",
              "      display: none;\n",
              "      fill: #1967D2;\n",
              "      height: 32px;\n",
              "      padding: 0 0 0 0;\n",
              "      width: 32px;\n",
              "    }\n",
              "\n",
              "    .colab-df-convert:hover {\n",
              "      background-color: #E2EBFA;\n",
              "      box-shadow: 0px 1px 2px rgba(60, 64, 67, 0.3), 0px 1px 3px 1px rgba(60, 64, 67, 0.15);\n",
              "      fill: #174EA6;\n",
              "    }\n",
              "\n",
              "    [theme=dark] .colab-df-convert {\n",
              "      background-color: #3B4455;\n",
              "      fill: #D2E3FC;\n",
              "    }\n",
              "\n",
              "    [theme=dark] .colab-df-convert:hover {\n",
              "      background-color: #434B5C;\n",
              "      box-shadow: 0px 1px 3px 1px rgba(0, 0, 0, 0.15);\n",
              "      filter: drop-shadow(0px 1px 2px rgba(0, 0, 0, 0.3));\n",
              "      fill: #FFFFFF;\n",
              "    }\n",
              "  </style>\n",
              "\n",
              "      <script>\n",
              "        const buttonEl =\n",
              "          document.querySelector('#df-721db128-1e37-453b-9313-a0ace76efb01 button.colab-df-convert');\n",
              "        buttonEl.style.display =\n",
              "          google.colab.kernel.accessAllowed ? 'block' : 'none';\n",
              "\n",
              "        async function convertToInteractive(key) {\n",
              "          const element = document.querySelector('#df-721db128-1e37-453b-9313-a0ace76efb01');\n",
              "          const dataTable =\n",
              "            await google.colab.kernel.invokeFunction('convertToInteractive',\n",
              "                                                     [key], {});\n",
              "          if (!dataTable) return;\n",
              "\n",
              "          const docLinkHtml = 'Like what you see? Visit the ' +\n",
              "            '<a target=\"_blank\" href=https://colab.research.google.com/notebooks/data_table.ipynb>data table notebook</a>'\n",
              "            + ' to learn more about interactive tables.';\n",
              "          element.innerHTML = '';\n",
              "          dataTable['output_type'] = 'display_data';\n",
              "          await google.colab.output.renderOutput(dataTable, element);\n",
              "          const docLink = document.createElement('div');\n",
              "          docLink.innerHTML = docLinkHtml;\n",
              "          element.appendChild(docLink);\n",
              "        }\n",
              "      </script>\n",
              "    </div>\n",
              "  </div>\n",
              "  "
            ]
          },
          "metadata": {},
          "execution_count": 22
        }
      ]
    },
    {
      "cell_type": "code",
      "source": [
        "df.drop(columns=['founded_at','founded_month'],inplace=True)"
      ],
      "metadata": {
        "id": "c5Dai7yVBuq3"
      },
      "execution_count": 23,
      "outputs": []
    },
    {
      "cell_type": "code",
      "source": [
        "df.fillna(0)"
      ],
      "metadata": {
        "colab": {
          "base_uri": "https://localhost:8080/",
          "height": 661
        },
        "id": "DZvog69ZByQ9",
        "outputId": "bd4a3e3a-e88e-46b2-9303-9de1499424f9"
      },
      "execution_count": 24,
      "outputs": [
        {
          "output_type": "execute_result",
          "data": {
            "text/plain": [
              "                                 permalink                               name  \\\n",
              "15           /organization/10-minutes-with                    10 Minutes With   \n",
              "20              /organization/1000memories                       1000memories   \n",
              "22                /organization/1001-menus                         1001 Menus   \n",
              "150                  /organization/2houses                            2houses   \n",
              "160                       /organization/2u                                 2U   \n",
              "...                                    ...                                ...   \n",
              "4789262                 /organization/tile                               Tile   \n",
              "4790746               /organization/ubiome                             uBiome   \n",
              "4793788               /organization/play-i  Wonder Workshop (Formerly Play-i)   \n",
              "4825382            /organization/oculus-vr                          Oculus VR   \n",
              "4827199  /organization/peloton-interactive                Peloton Interactive   \n",
              "\n",
              "                        homepage_url  \\\n",
              "15          http://10minuteswith.com   \n",
              "20           http://1000memories.com   \n",
              "22              http://1001menus.com   \n",
              "150           http://www.2houses.com   \n",
              "160                    http://2U.com   \n",
              "...                              ...   \n",
              "4789262        http://thetileapp.com   \n",
              "4790746            http://ubiome.com   \n",
              "4793788        http://makewonder.com   \n",
              "4825382      http://www.oculusvr.com   \n",
              "4827199  http://www.pelotoncycle.com   \n",
              "\n",
              "                                             category_list  \\\n",
              "15                                              Education,   \n",
              "20                                            Curated,Web,   \n",
              "22                           Local,Businesses,Restaurants,   \n",
              "150                                           Curated,Web,   \n",
              "160                                    Software,Education,   \n",
              "...                                                    ...   \n",
              "4789262                                            Mobile,   \n",
              "4790746  Quantified,Self,Big,Data,Machine,Learning,Heal...   \n",
              "4793788                               Hardware,,,Software,   \n",
              "4825382    Video,Games,Virtualization,Hardware,,,Software,   \n",
              "4827199  Video,Streaming,Android,Fitness,Hardware,,,Sof...   \n",
              "\n",
              "                       market   funding_total_usd      status country_code  \\\n",
              "15                  Education           44,00,000   operating          GBR   \n",
              "20                Curated Web           25,35,000    acquired          USA   \n",
              "22                Restaurants           40,59,079   operating          FRA   \n",
              "150               Curated Web            9,66,728   operating          BEL   \n",
              "160                  Software         9,58,75,000   operating          USA   \n",
              "...                        ...                 ...        ...          ...   \n",
              "4789262                Mobile         1,58,00,000   operating          USA   \n",
              "4790746           Health Care           49,71,193   operating          USA   \n",
              "4793788   Hardware + Software         1,04,40,000   operating          USA   \n",
              "4825382           Video Games         9,34,00,000    acquired          USA   \n",
              "4827199   Hardware + Software         1,47,07,000   operating          USA   \n",
              "\n",
              "        state_code         region           city  funding_rounds  \\\n",
              "15               0         London         London             2.0   \n",
              "20              CA    SF Bay Area  San Francisco             2.0   \n",
              "22               0          Paris          Paris             4.0   \n",
              "150              0       Brussels            Bel             2.0   \n",
              "160             MD      Baltimore        Hanover             6.0   \n",
              "...            ...            ...            ...             ...   \n",
              "4789262         CA    SF Bay Area      San Mateo             4.0   \n",
              "4790746         CA    SF Bay Area  San Francisco             3.0   \n",
              "4793788         CA    SF Bay Area      San Mateo             3.0   \n",
              "4825382         CA        Anaheim         Irvine             3.0   \n",
              "4827199         NY  New York City       New York             4.0   \n",
              "\n",
              "        founded_quarter  founded_year first_funding_at last_funding_at  \\\n",
              "15              2013-Q1        2013.0       2013-01-01      2014-10-09   \n",
              "20              2010-Q3        2010.0       2010-01-01      2011-02-16   \n",
              "22              2010-Q4        2010.0       2012-12-15      2013-11-13   \n",
              "150             2011-Q2        2011.0       2011-08-08      2012-11-09   \n",
              "160             2008-Q1        2008.0       2009-03-25      2013-10-21   \n",
              "...                 ...           ...              ...             ...   \n",
              "4789262         2012-Q4        2012.0       2013-02-20      2014-10-01   \n",
              "4790746         2013-Q1        2013.0       2012-11-16      2014-08-18   \n",
              "4793788         2012-Q4        2012.0       2013-05-01      2014-03-04   \n",
              "4825382         2012-Q3        2012.0       2012-08-01      2013-12-12   \n",
              "4827199         2012-Q1        2012.0       2012-02-01      2014-04-25   \n",
              "\n",
              "        gen_funding_round  funding_amount     invest_round_type  amount_given  \n",
              "15                round_A       4000000.0                  seed      400000.0  \n",
              "20                round_A       2520000.0                  seed       15000.0  \n",
              "22                round_A       3536910.0                  seed      522169.0  \n",
              "150               round_A        860102.0                  seed      106626.0  \n",
              "160               round_A      10000000.0                  seed     2275000.0  \n",
              "...                   ...             ...                   ...           ...  \n",
              "4789262           round_A       9500000.0  product_crowdfunding     2600000.0  \n",
              "4790746           round_A       4500000.0  product_crowdfunding      351193.0  \n",
              "4793788           round_A       8000000.0  product_crowdfunding     1440000.0  \n",
              "4825382           round_B      75000000.0  product_crowdfunding     2400000.0  \n",
              "4827199           round_B      10500000.0  product_crowdfunding      307000.0  \n",
              "\n",
              "[26600 rows x 20 columns]"
            ],
            "text/html": [
              "\n",
              "  <div id=\"df-41b658ef-e078-46a0-b1de-18b1ec4a5f78\">\n",
              "    <div class=\"colab-df-container\">\n",
              "      <div>\n",
              "<style scoped>\n",
              "    .dataframe tbody tr th:only-of-type {\n",
              "        vertical-align: middle;\n",
              "    }\n",
              "\n",
              "    .dataframe tbody tr th {\n",
              "        vertical-align: top;\n",
              "    }\n",
              "\n",
              "    .dataframe thead th {\n",
              "        text-align: right;\n",
              "    }\n",
              "</style>\n",
              "<table border=\"1\" class=\"dataframe\">\n",
              "  <thead>\n",
              "    <tr style=\"text-align: right;\">\n",
              "      <th></th>\n",
              "      <th>permalink</th>\n",
              "      <th>name</th>\n",
              "      <th>homepage_url</th>\n",
              "      <th>category_list</th>\n",
              "      <th>market</th>\n",
              "      <th>funding_total_usd</th>\n",
              "      <th>status</th>\n",
              "      <th>country_code</th>\n",
              "      <th>state_code</th>\n",
              "      <th>region</th>\n",
              "      <th>city</th>\n",
              "      <th>funding_rounds</th>\n",
              "      <th>founded_quarter</th>\n",
              "      <th>founded_year</th>\n",
              "      <th>first_funding_at</th>\n",
              "      <th>last_funding_at</th>\n",
              "      <th>gen_funding_round</th>\n",
              "      <th>funding_amount</th>\n",
              "      <th>invest_round_type</th>\n",
              "      <th>amount_given</th>\n",
              "    </tr>\n",
              "  </thead>\n",
              "  <tbody>\n",
              "    <tr>\n",
              "      <th>15</th>\n",
              "      <td>/organization/10-minutes-with</td>\n",
              "      <td>10 Minutes With</td>\n",
              "      <td>http://10minuteswith.com</td>\n",
              "      <td>Education,</td>\n",
              "      <td>Education</td>\n",
              "      <td>44,00,000</td>\n",
              "      <td>operating</td>\n",
              "      <td>GBR</td>\n",
              "      <td>0</td>\n",
              "      <td>London</td>\n",
              "      <td>London</td>\n",
              "      <td>2.0</td>\n",
              "      <td>2013-Q1</td>\n",
              "      <td>2013.0</td>\n",
              "      <td>2013-01-01</td>\n",
              "      <td>2014-10-09</td>\n",
              "      <td>round_A</td>\n",
              "      <td>4000000.0</td>\n",
              "      <td>seed</td>\n",
              "      <td>400000.0</td>\n",
              "    </tr>\n",
              "    <tr>\n",
              "      <th>20</th>\n",
              "      <td>/organization/1000memories</td>\n",
              "      <td>1000memories</td>\n",
              "      <td>http://1000memories.com</td>\n",
              "      <td>Curated,Web,</td>\n",
              "      <td>Curated Web</td>\n",
              "      <td>25,35,000</td>\n",
              "      <td>acquired</td>\n",
              "      <td>USA</td>\n",
              "      <td>CA</td>\n",
              "      <td>SF Bay Area</td>\n",
              "      <td>San Francisco</td>\n",
              "      <td>2.0</td>\n",
              "      <td>2010-Q3</td>\n",
              "      <td>2010.0</td>\n",
              "      <td>2010-01-01</td>\n",
              "      <td>2011-02-16</td>\n",
              "      <td>round_A</td>\n",
              "      <td>2520000.0</td>\n",
              "      <td>seed</td>\n",
              "      <td>15000.0</td>\n",
              "    </tr>\n",
              "    <tr>\n",
              "      <th>22</th>\n",
              "      <td>/organization/1001-menus</td>\n",
              "      <td>1001 Menus</td>\n",
              "      <td>http://1001menus.com</td>\n",
              "      <td>Local,Businesses,Restaurants,</td>\n",
              "      <td>Restaurants</td>\n",
              "      <td>40,59,079</td>\n",
              "      <td>operating</td>\n",
              "      <td>FRA</td>\n",
              "      <td>0</td>\n",
              "      <td>Paris</td>\n",
              "      <td>Paris</td>\n",
              "      <td>4.0</td>\n",
              "      <td>2010-Q4</td>\n",
              "      <td>2010.0</td>\n",
              "      <td>2012-12-15</td>\n",
              "      <td>2013-11-13</td>\n",
              "      <td>round_A</td>\n",
              "      <td>3536910.0</td>\n",
              "      <td>seed</td>\n",
              "      <td>522169.0</td>\n",
              "    </tr>\n",
              "    <tr>\n",
              "      <th>150</th>\n",
              "      <td>/organization/2houses</td>\n",
              "      <td>2houses</td>\n",
              "      <td>http://www.2houses.com</td>\n",
              "      <td>Curated,Web,</td>\n",
              "      <td>Curated Web</td>\n",
              "      <td>9,66,728</td>\n",
              "      <td>operating</td>\n",
              "      <td>BEL</td>\n",
              "      <td>0</td>\n",
              "      <td>Brussels</td>\n",
              "      <td>Bel</td>\n",
              "      <td>2.0</td>\n",
              "      <td>2011-Q2</td>\n",
              "      <td>2011.0</td>\n",
              "      <td>2011-08-08</td>\n",
              "      <td>2012-11-09</td>\n",
              "      <td>round_A</td>\n",
              "      <td>860102.0</td>\n",
              "      <td>seed</td>\n",
              "      <td>106626.0</td>\n",
              "    </tr>\n",
              "    <tr>\n",
              "      <th>160</th>\n",
              "      <td>/organization/2u</td>\n",
              "      <td>2U</td>\n",
              "      <td>http://2U.com</td>\n",
              "      <td>Software,Education,</td>\n",
              "      <td>Software</td>\n",
              "      <td>9,58,75,000</td>\n",
              "      <td>operating</td>\n",
              "      <td>USA</td>\n",
              "      <td>MD</td>\n",
              "      <td>Baltimore</td>\n",
              "      <td>Hanover</td>\n",
              "      <td>6.0</td>\n",
              "      <td>2008-Q1</td>\n",
              "      <td>2008.0</td>\n",
              "      <td>2009-03-25</td>\n",
              "      <td>2013-10-21</td>\n",
              "      <td>round_A</td>\n",
              "      <td>10000000.0</td>\n",
              "      <td>seed</td>\n",
              "      <td>2275000.0</td>\n",
              "    </tr>\n",
              "    <tr>\n",
              "      <th>...</th>\n",
              "      <td>...</td>\n",
              "      <td>...</td>\n",
              "      <td>...</td>\n",
              "      <td>...</td>\n",
              "      <td>...</td>\n",
              "      <td>...</td>\n",
              "      <td>...</td>\n",
              "      <td>...</td>\n",
              "      <td>...</td>\n",
              "      <td>...</td>\n",
              "      <td>...</td>\n",
              "      <td>...</td>\n",
              "      <td>...</td>\n",
              "      <td>...</td>\n",
              "      <td>...</td>\n",
              "      <td>...</td>\n",
              "      <td>...</td>\n",
              "      <td>...</td>\n",
              "      <td>...</td>\n",
              "      <td>...</td>\n",
              "    </tr>\n",
              "    <tr>\n",
              "      <th>4789262</th>\n",
              "      <td>/organization/tile</td>\n",
              "      <td>Tile</td>\n",
              "      <td>http://thetileapp.com</td>\n",
              "      <td>Mobile,</td>\n",
              "      <td>Mobile</td>\n",
              "      <td>1,58,00,000</td>\n",
              "      <td>operating</td>\n",
              "      <td>USA</td>\n",
              "      <td>CA</td>\n",
              "      <td>SF Bay Area</td>\n",
              "      <td>San Mateo</td>\n",
              "      <td>4.0</td>\n",
              "      <td>2012-Q4</td>\n",
              "      <td>2012.0</td>\n",
              "      <td>2013-02-20</td>\n",
              "      <td>2014-10-01</td>\n",
              "      <td>round_A</td>\n",
              "      <td>9500000.0</td>\n",
              "      <td>product_crowdfunding</td>\n",
              "      <td>2600000.0</td>\n",
              "    </tr>\n",
              "    <tr>\n",
              "      <th>4790746</th>\n",
              "      <td>/organization/ubiome</td>\n",
              "      <td>uBiome</td>\n",
              "      <td>http://ubiome.com</td>\n",
              "      <td>Quantified,Self,Big,Data,Machine,Learning,Heal...</td>\n",
              "      <td>Health Care</td>\n",
              "      <td>49,71,193</td>\n",
              "      <td>operating</td>\n",
              "      <td>USA</td>\n",
              "      <td>CA</td>\n",
              "      <td>SF Bay Area</td>\n",
              "      <td>San Francisco</td>\n",
              "      <td>3.0</td>\n",
              "      <td>2013-Q1</td>\n",
              "      <td>2013.0</td>\n",
              "      <td>2012-11-16</td>\n",
              "      <td>2014-08-18</td>\n",
              "      <td>round_A</td>\n",
              "      <td>4500000.0</td>\n",
              "      <td>product_crowdfunding</td>\n",
              "      <td>351193.0</td>\n",
              "    </tr>\n",
              "    <tr>\n",
              "      <th>4793788</th>\n",
              "      <td>/organization/play-i</td>\n",
              "      <td>Wonder Workshop (Formerly Play-i)</td>\n",
              "      <td>http://makewonder.com</td>\n",
              "      <td>Hardware,,,Software,</td>\n",
              "      <td>Hardware + Software</td>\n",
              "      <td>1,04,40,000</td>\n",
              "      <td>operating</td>\n",
              "      <td>USA</td>\n",
              "      <td>CA</td>\n",
              "      <td>SF Bay Area</td>\n",
              "      <td>San Mateo</td>\n",
              "      <td>3.0</td>\n",
              "      <td>2012-Q4</td>\n",
              "      <td>2012.0</td>\n",
              "      <td>2013-05-01</td>\n",
              "      <td>2014-03-04</td>\n",
              "      <td>round_A</td>\n",
              "      <td>8000000.0</td>\n",
              "      <td>product_crowdfunding</td>\n",
              "      <td>1440000.0</td>\n",
              "    </tr>\n",
              "    <tr>\n",
              "      <th>4825382</th>\n",
              "      <td>/organization/oculus-vr</td>\n",
              "      <td>Oculus VR</td>\n",
              "      <td>http://www.oculusvr.com</td>\n",
              "      <td>Video,Games,Virtualization,Hardware,,,Software,</td>\n",
              "      <td>Video Games</td>\n",
              "      <td>9,34,00,000</td>\n",
              "      <td>acquired</td>\n",
              "      <td>USA</td>\n",
              "      <td>CA</td>\n",
              "      <td>Anaheim</td>\n",
              "      <td>Irvine</td>\n",
              "      <td>3.0</td>\n",
              "      <td>2012-Q3</td>\n",
              "      <td>2012.0</td>\n",
              "      <td>2012-08-01</td>\n",
              "      <td>2013-12-12</td>\n",
              "      <td>round_B</td>\n",
              "      <td>75000000.0</td>\n",
              "      <td>product_crowdfunding</td>\n",
              "      <td>2400000.0</td>\n",
              "    </tr>\n",
              "    <tr>\n",
              "      <th>4827199</th>\n",
              "      <td>/organization/peloton-interactive</td>\n",
              "      <td>Peloton Interactive</td>\n",
              "      <td>http://www.pelotoncycle.com</td>\n",
              "      <td>Video,Streaming,Android,Fitness,Hardware,,,Sof...</td>\n",
              "      <td>Hardware + Software</td>\n",
              "      <td>1,47,07,000</td>\n",
              "      <td>operating</td>\n",
              "      <td>USA</td>\n",
              "      <td>NY</td>\n",
              "      <td>New York City</td>\n",
              "      <td>New York</td>\n",
              "      <td>4.0</td>\n",
              "      <td>2012-Q1</td>\n",
              "      <td>2012.0</td>\n",
              "      <td>2012-02-01</td>\n",
              "      <td>2014-04-25</td>\n",
              "      <td>round_B</td>\n",
              "      <td>10500000.0</td>\n",
              "      <td>product_crowdfunding</td>\n",
              "      <td>307000.0</td>\n",
              "    </tr>\n",
              "  </tbody>\n",
              "</table>\n",
              "<p>26600 rows × 20 columns</p>\n",
              "</div>\n",
              "      <button class=\"colab-df-convert\" onclick=\"convertToInteractive('df-41b658ef-e078-46a0-b1de-18b1ec4a5f78')\"\n",
              "              title=\"Convert this dataframe to an interactive table.\"\n",
              "              style=\"display:none;\">\n",
              "        \n",
              "  <svg xmlns=\"http://www.w3.org/2000/svg\" height=\"24px\"viewBox=\"0 0 24 24\"\n",
              "       width=\"24px\">\n",
              "    <path d=\"M0 0h24v24H0V0z\" fill=\"none\"/>\n",
              "    <path d=\"M18.56 5.44l.94 2.06.94-2.06 2.06-.94-2.06-.94-.94-2.06-.94 2.06-2.06.94zm-11 1L8.5 8.5l.94-2.06 2.06-.94-2.06-.94L8.5 2.5l-.94 2.06-2.06.94zm10 10l.94 2.06.94-2.06 2.06-.94-2.06-.94-.94-2.06-.94 2.06-2.06.94z\"/><path d=\"M17.41 7.96l-1.37-1.37c-.4-.4-.92-.59-1.43-.59-.52 0-1.04.2-1.43.59L10.3 9.45l-7.72 7.72c-.78.78-.78 2.05 0 2.83L4 21.41c.39.39.9.59 1.41.59.51 0 1.02-.2 1.41-.59l7.78-7.78 2.81-2.81c.8-.78.8-2.07 0-2.86zM5.41 20L4 18.59l7.72-7.72 1.47 1.35L5.41 20z\"/>\n",
              "  </svg>\n",
              "      </button>\n",
              "      \n",
              "  <style>\n",
              "    .colab-df-container {\n",
              "      display:flex;\n",
              "      flex-wrap:wrap;\n",
              "      gap: 12px;\n",
              "    }\n",
              "\n",
              "    .colab-df-convert {\n",
              "      background-color: #E8F0FE;\n",
              "      border: none;\n",
              "      border-radius: 50%;\n",
              "      cursor: pointer;\n",
              "      display: none;\n",
              "      fill: #1967D2;\n",
              "      height: 32px;\n",
              "      padding: 0 0 0 0;\n",
              "      width: 32px;\n",
              "    }\n",
              "\n",
              "    .colab-df-convert:hover {\n",
              "      background-color: #E2EBFA;\n",
              "      box-shadow: 0px 1px 2px rgba(60, 64, 67, 0.3), 0px 1px 3px 1px rgba(60, 64, 67, 0.15);\n",
              "      fill: #174EA6;\n",
              "    }\n",
              "\n",
              "    [theme=dark] .colab-df-convert {\n",
              "      background-color: #3B4455;\n",
              "      fill: #D2E3FC;\n",
              "    }\n",
              "\n",
              "    [theme=dark] .colab-df-convert:hover {\n",
              "      background-color: #434B5C;\n",
              "      box-shadow: 0px 1px 3px 1px rgba(0, 0, 0, 0.15);\n",
              "      filter: drop-shadow(0px 1px 2px rgba(0, 0, 0, 0.3));\n",
              "      fill: #FFFFFF;\n",
              "    }\n",
              "  </style>\n",
              "\n",
              "      <script>\n",
              "        const buttonEl =\n",
              "          document.querySelector('#df-41b658ef-e078-46a0-b1de-18b1ec4a5f78 button.colab-df-convert');\n",
              "        buttonEl.style.display =\n",
              "          google.colab.kernel.accessAllowed ? 'block' : 'none';\n",
              "\n",
              "        async function convertToInteractive(key) {\n",
              "          const element = document.querySelector('#df-41b658ef-e078-46a0-b1de-18b1ec4a5f78');\n",
              "          const dataTable =\n",
              "            await google.colab.kernel.invokeFunction('convertToInteractive',\n",
              "                                                     [key], {});\n",
              "          if (!dataTable) return;\n",
              "\n",
              "          const docLinkHtml = 'Like what you see? Visit the ' +\n",
              "            '<a target=\"_blank\" href=https://colab.research.google.com/notebooks/data_table.ipynb>data table notebook</a>'\n",
              "            + ' to learn more about interactive tables.';\n",
              "          element.innerHTML = '';\n",
              "          dataTable['output_type'] = 'display_data';\n",
              "          await google.colab.output.renderOutput(dataTable, element);\n",
              "          const docLink = document.createElement('div');\n",
              "          docLink.innerHTML = docLinkHtml;\n",
              "          element.appendChild(docLink);\n",
              "        }\n",
              "      </script>\n",
              "    </div>\n",
              "  </div>\n",
              "  "
            ]
          },
          "metadata": {},
          "execution_count": 24
        }
      ]
    },
    {
      "cell_type": "code",
      "source": [
        "df['founded_year']=pd.to_datetime(df['founded_year'])"
      ],
      "metadata": {
        "id": "0V7_5HuSBzWp"
      },
      "execution_count": 25,
      "outputs": []
    },
    {
      "cell_type": "code",
      "source": [
        "try:\n",
        "    df['first_funding_at']=pd.to_datetime(df['first_funding_at'])\n",
        "except:\n",
        "    pass"
      ],
      "metadata": {
        "id": "aVIF_wZkBzZ8"
      },
      "execution_count": 26,
      "outputs": []
    },
    {
      "cell_type": "code",
      "source": [
        "df['last_funding_at']=pd.to_datetime(df['last_funding_at'])"
      ],
      "metadata": {
        "id": "onhJ_4cRBzen"
      },
      "execution_count": 27,
      "outputs": []
    },
    {
      "cell_type": "code",
      "source": [
        "df['amount_given']=df['amount_given'].astype(int)"
      ],
      "metadata": {
        "id": "lrqUPsUmB-FU"
      },
      "execution_count": 28,
      "outputs": []
    },
    {
      "cell_type": "code",
      "source": [
        "df['funding_amount']=df['funding_amount'].astype(int)"
      ],
      "metadata": {
        "id": "5x_Zfd4CB_Hm"
      },
      "execution_count": 29,
      "outputs": []
    },
    {
      "cell_type": "code",
      "source": [
        "dft=df[df['name'].duplicated()]"
      ],
      "metadata": {
        "id": "I9DTOVrvB_Me"
      },
      "execution_count": 30,
      "outputs": []
    },
    {
      "cell_type": "code",
      "source": [
        "dft.shape"
      ],
      "metadata": {
        "colab": {
          "base_uri": "https://localhost:8080/"
        },
        "id": "it0DzWivCFWq",
        "outputId": "47595fa8-6ca1-4c15-9a6b-00af667159df"
      },
      "execution_count": 31,
      "outputs": [
        {
          "output_type": "execute_result",
          "data": {
            "text/plain": [
              "(13852, 20)"
            ]
          },
          "metadata": {},
          "execution_count": 31
        }
      ]
    },
    {
      "cell_type": "code",
      "source": [
        "dft.head()"
      ],
      "metadata": {
        "colab": {
          "base_uri": "https://localhost:8080/",
          "height": 357
        },
        "id": "Boine-DlCFay",
        "outputId": "63911106-bfc6-4820-88b9-8b5eb752df4e"
      },
      "execution_count": 32,
      "outputs": [
        {
          "output_type": "execute_result",
          "data": {
            "text/plain": [
              "                              permalink                name  \\\n",
              "49597                  /organization/2u                  2U   \n",
              "49609            /organization/33across            33Across   \n",
              "49710            /organization/42floors            42Floors   \n",
              "49747          /organization/500friends          500Friends   \n",
              "50003  /organization/ablative-solutions  Ablative Solutions   \n",
              "\n",
              "                       homepage_url  \\\n",
              "49597                 http://2U.com   \n",
              "49609       http://www.33across.com   \n",
              "49710           http://42floors.com   \n",
              "49747     http://www.500Friends.com   \n",
              "50003  http://ablativesolutions.com   \n",
              "\n",
              "                                           category_list  \\\n",
              "49597                                Software,Education,   \n",
              "49609                  Social,Network,Media,Advertising,   \n",
              "49710                Commercial,Real,Estate,Real,Estate,   \n",
              "49747  Loyalty,Programs,Social,Media,E-Commerce,Enter...   \n",
              "50003                                     Biotechnology,   \n",
              "\n",
              "                        market   funding_total_usd      status country_code  \\\n",
              "49597                 Software         9,58,75,000   operating          USA   \n",
              "49609              Advertising         2,56,54,560   operating          USA   \n",
              "49710   Commercial Real Estate         1,74,00,000   operating          USA   \n",
              "49747               E-Commerce         1,29,00,000    acquired          USA   \n",
              "50003            Biotechnology         2,59,30,577   operating          USA   \n",
              "\n",
              "      state_code         region           city  funding_rounds  \\\n",
              "49597         MD      Baltimore        Hanover             6.0   \n",
              "49609         NY  New York City       New York             5.0   \n",
              "49710         CA    SF Bay Area  San Francisco             4.0   \n",
              "49747         CA    SF Bay Area  San Francisco             6.0   \n",
              "50003         MI      Kalamazoo      Kalamazoo             5.0   \n",
              "\n",
              "      founded_quarter                  founded_year first_funding_at  \\\n",
              "49597         2008-Q1 1970-01-01 00:00:00.000002008       2009-03-25   \n",
              "49609         2007-Q3 1970-01-01 00:00:00.000002007       2009-02-06   \n",
              "49710         2011-Q1 1970-01-01 00:00:00.000002011       2011-09-01   \n",
              "49747         2010-Q1 1970-01-01 00:00:00.000002010       2009-12-15   \n",
              "50003         2011-Q1 1970-01-01 00:00:00.000002011       2012-01-04   \n",
              "\n",
              "      last_funding_at gen_funding_round  funding_amount invest_round_type  \\\n",
              "49597      2013-10-21           round_B        20000000              seed   \n",
              "49609      2012-07-19           round_B         9000000              seed   \n",
              "49710      2013-01-31           round_B        12000000              seed   \n",
              "49747      2013-03-12           round_B         5000000              seed   \n",
              "50003      2014-02-04           round_B         9575077              seed   \n",
              "\n",
              "       amount_given  \n",
              "49597       2275000  \n",
              "49609        750000  \n",
              "49710        400000  \n",
              "49747       1400000  \n",
              "50003          5000  "
            ],
            "text/html": [
              "\n",
              "  <div id=\"df-0f71edcf-5a3d-4e8a-9dcd-5e4c6327187c\">\n",
              "    <div class=\"colab-df-container\">\n",
              "      <div>\n",
              "<style scoped>\n",
              "    .dataframe tbody tr th:only-of-type {\n",
              "        vertical-align: middle;\n",
              "    }\n",
              "\n",
              "    .dataframe tbody tr th {\n",
              "        vertical-align: top;\n",
              "    }\n",
              "\n",
              "    .dataframe thead th {\n",
              "        text-align: right;\n",
              "    }\n",
              "</style>\n",
              "<table border=\"1\" class=\"dataframe\">\n",
              "  <thead>\n",
              "    <tr style=\"text-align: right;\">\n",
              "      <th></th>\n",
              "      <th>permalink</th>\n",
              "      <th>name</th>\n",
              "      <th>homepage_url</th>\n",
              "      <th>category_list</th>\n",
              "      <th>market</th>\n",
              "      <th>funding_total_usd</th>\n",
              "      <th>status</th>\n",
              "      <th>country_code</th>\n",
              "      <th>state_code</th>\n",
              "      <th>region</th>\n",
              "      <th>city</th>\n",
              "      <th>funding_rounds</th>\n",
              "      <th>founded_quarter</th>\n",
              "      <th>founded_year</th>\n",
              "      <th>first_funding_at</th>\n",
              "      <th>last_funding_at</th>\n",
              "      <th>gen_funding_round</th>\n",
              "      <th>funding_amount</th>\n",
              "      <th>invest_round_type</th>\n",
              "      <th>amount_given</th>\n",
              "    </tr>\n",
              "  </thead>\n",
              "  <tbody>\n",
              "    <tr>\n",
              "      <th>49597</th>\n",
              "      <td>/organization/2u</td>\n",
              "      <td>2U</td>\n",
              "      <td>http://2U.com</td>\n",
              "      <td>Software,Education,</td>\n",
              "      <td>Software</td>\n",
              "      <td>9,58,75,000</td>\n",
              "      <td>operating</td>\n",
              "      <td>USA</td>\n",
              "      <td>MD</td>\n",
              "      <td>Baltimore</td>\n",
              "      <td>Hanover</td>\n",
              "      <td>6.0</td>\n",
              "      <td>2008-Q1</td>\n",
              "      <td>1970-01-01 00:00:00.000002008</td>\n",
              "      <td>2009-03-25</td>\n",
              "      <td>2013-10-21</td>\n",
              "      <td>round_B</td>\n",
              "      <td>20000000</td>\n",
              "      <td>seed</td>\n",
              "      <td>2275000</td>\n",
              "    </tr>\n",
              "    <tr>\n",
              "      <th>49609</th>\n",
              "      <td>/organization/33across</td>\n",
              "      <td>33Across</td>\n",
              "      <td>http://www.33across.com</td>\n",
              "      <td>Social,Network,Media,Advertising,</td>\n",
              "      <td>Advertising</td>\n",
              "      <td>2,56,54,560</td>\n",
              "      <td>operating</td>\n",
              "      <td>USA</td>\n",
              "      <td>NY</td>\n",
              "      <td>New York City</td>\n",
              "      <td>New York</td>\n",
              "      <td>5.0</td>\n",
              "      <td>2007-Q3</td>\n",
              "      <td>1970-01-01 00:00:00.000002007</td>\n",
              "      <td>2009-02-06</td>\n",
              "      <td>2012-07-19</td>\n",
              "      <td>round_B</td>\n",
              "      <td>9000000</td>\n",
              "      <td>seed</td>\n",
              "      <td>750000</td>\n",
              "    </tr>\n",
              "    <tr>\n",
              "      <th>49710</th>\n",
              "      <td>/organization/42floors</td>\n",
              "      <td>42Floors</td>\n",
              "      <td>http://42floors.com</td>\n",
              "      <td>Commercial,Real,Estate,Real,Estate,</td>\n",
              "      <td>Commercial Real Estate</td>\n",
              "      <td>1,74,00,000</td>\n",
              "      <td>operating</td>\n",
              "      <td>USA</td>\n",
              "      <td>CA</td>\n",
              "      <td>SF Bay Area</td>\n",
              "      <td>San Francisco</td>\n",
              "      <td>4.0</td>\n",
              "      <td>2011-Q1</td>\n",
              "      <td>1970-01-01 00:00:00.000002011</td>\n",
              "      <td>2011-09-01</td>\n",
              "      <td>2013-01-31</td>\n",
              "      <td>round_B</td>\n",
              "      <td>12000000</td>\n",
              "      <td>seed</td>\n",
              "      <td>400000</td>\n",
              "    </tr>\n",
              "    <tr>\n",
              "      <th>49747</th>\n",
              "      <td>/organization/500friends</td>\n",
              "      <td>500Friends</td>\n",
              "      <td>http://www.500Friends.com</td>\n",
              "      <td>Loyalty,Programs,Social,Media,E-Commerce,Enter...</td>\n",
              "      <td>E-Commerce</td>\n",
              "      <td>1,29,00,000</td>\n",
              "      <td>acquired</td>\n",
              "      <td>USA</td>\n",
              "      <td>CA</td>\n",
              "      <td>SF Bay Area</td>\n",
              "      <td>San Francisco</td>\n",
              "      <td>6.0</td>\n",
              "      <td>2010-Q1</td>\n",
              "      <td>1970-01-01 00:00:00.000002010</td>\n",
              "      <td>2009-12-15</td>\n",
              "      <td>2013-03-12</td>\n",
              "      <td>round_B</td>\n",
              "      <td>5000000</td>\n",
              "      <td>seed</td>\n",
              "      <td>1400000</td>\n",
              "    </tr>\n",
              "    <tr>\n",
              "      <th>50003</th>\n",
              "      <td>/organization/ablative-solutions</td>\n",
              "      <td>Ablative Solutions</td>\n",
              "      <td>http://ablativesolutions.com</td>\n",
              "      <td>Biotechnology,</td>\n",
              "      <td>Biotechnology</td>\n",
              "      <td>2,59,30,577</td>\n",
              "      <td>operating</td>\n",
              "      <td>USA</td>\n",
              "      <td>MI</td>\n",
              "      <td>Kalamazoo</td>\n",
              "      <td>Kalamazoo</td>\n",
              "      <td>5.0</td>\n",
              "      <td>2011-Q1</td>\n",
              "      <td>1970-01-01 00:00:00.000002011</td>\n",
              "      <td>2012-01-04</td>\n",
              "      <td>2014-02-04</td>\n",
              "      <td>round_B</td>\n",
              "      <td>9575077</td>\n",
              "      <td>seed</td>\n",
              "      <td>5000</td>\n",
              "    </tr>\n",
              "  </tbody>\n",
              "</table>\n",
              "</div>\n",
              "      <button class=\"colab-df-convert\" onclick=\"convertToInteractive('df-0f71edcf-5a3d-4e8a-9dcd-5e4c6327187c')\"\n",
              "              title=\"Convert this dataframe to an interactive table.\"\n",
              "              style=\"display:none;\">\n",
              "        \n",
              "  <svg xmlns=\"http://www.w3.org/2000/svg\" height=\"24px\"viewBox=\"0 0 24 24\"\n",
              "       width=\"24px\">\n",
              "    <path d=\"M0 0h24v24H0V0z\" fill=\"none\"/>\n",
              "    <path d=\"M18.56 5.44l.94 2.06.94-2.06 2.06-.94-2.06-.94-.94-2.06-.94 2.06-2.06.94zm-11 1L8.5 8.5l.94-2.06 2.06-.94-2.06-.94L8.5 2.5l-.94 2.06-2.06.94zm10 10l.94 2.06.94-2.06 2.06-.94-2.06-.94-.94-2.06-.94 2.06-2.06.94z\"/><path d=\"M17.41 7.96l-1.37-1.37c-.4-.4-.92-.59-1.43-.59-.52 0-1.04.2-1.43.59L10.3 9.45l-7.72 7.72c-.78.78-.78 2.05 0 2.83L4 21.41c.39.39.9.59 1.41.59.51 0 1.02-.2 1.41-.59l7.78-7.78 2.81-2.81c.8-.78.8-2.07 0-2.86zM5.41 20L4 18.59l7.72-7.72 1.47 1.35L5.41 20z\"/>\n",
              "  </svg>\n",
              "      </button>\n",
              "      \n",
              "  <style>\n",
              "    .colab-df-container {\n",
              "      display:flex;\n",
              "      flex-wrap:wrap;\n",
              "      gap: 12px;\n",
              "    }\n",
              "\n",
              "    .colab-df-convert {\n",
              "      background-color: #E8F0FE;\n",
              "      border: none;\n",
              "      border-radius: 50%;\n",
              "      cursor: pointer;\n",
              "      display: none;\n",
              "      fill: #1967D2;\n",
              "      height: 32px;\n",
              "      padding: 0 0 0 0;\n",
              "      width: 32px;\n",
              "    }\n",
              "\n",
              "    .colab-df-convert:hover {\n",
              "      background-color: #E2EBFA;\n",
              "      box-shadow: 0px 1px 2px rgba(60, 64, 67, 0.3), 0px 1px 3px 1px rgba(60, 64, 67, 0.15);\n",
              "      fill: #174EA6;\n",
              "    }\n",
              "\n",
              "    [theme=dark] .colab-df-convert {\n",
              "      background-color: #3B4455;\n",
              "      fill: #D2E3FC;\n",
              "    }\n",
              "\n",
              "    [theme=dark] .colab-df-convert:hover {\n",
              "      background-color: #434B5C;\n",
              "      box-shadow: 0px 1px 3px 1px rgba(0, 0, 0, 0.15);\n",
              "      filter: drop-shadow(0px 1px 2px rgba(0, 0, 0, 0.3));\n",
              "      fill: #FFFFFF;\n",
              "    }\n",
              "  </style>\n",
              "\n",
              "      <script>\n",
              "        const buttonEl =\n",
              "          document.querySelector('#df-0f71edcf-5a3d-4e8a-9dcd-5e4c6327187c button.colab-df-convert');\n",
              "        buttonEl.style.display =\n",
              "          google.colab.kernel.accessAllowed ? 'block' : 'none';\n",
              "\n",
              "        async function convertToInteractive(key) {\n",
              "          const element = document.querySelector('#df-0f71edcf-5a3d-4e8a-9dcd-5e4c6327187c');\n",
              "          const dataTable =\n",
              "            await google.colab.kernel.invokeFunction('convertToInteractive',\n",
              "                                                     [key], {});\n",
              "          if (!dataTable) return;\n",
              "\n",
              "          const docLinkHtml = 'Like what you see? Visit the ' +\n",
              "            '<a target=\"_blank\" href=https://colab.research.google.com/notebooks/data_table.ipynb>data table notebook</a>'\n",
              "            + ' to learn more about interactive tables.';\n",
              "          element.innerHTML = '';\n",
              "          dataTable['output_type'] = 'display_data';\n",
              "          await google.colab.output.renderOutput(dataTable, element);\n",
              "          const docLink = document.createElement('div');\n",
              "          docLink.innerHTML = docLinkHtml;\n",
              "          element.appendChild(docLink);\n",
              "        }\n",
              "      </script>\n",
              "    </div>\n",
              "  </div>\n",
              "  "
            ]
          },
          "metadata": {},
          "execution_count": 32
        }
      ]
    },
    {
      "cell_type": "code",
      "source": [
        "dft['country_code'].value_counts().head(10)"
      ],
      "metadata": {
        "colab": {
          "base_uri": "https://localhost:8080/"
        },
        "id": "zsxRfWGrCFgX",
        "outputId": "b0d7d1b4-4f17-45c0-b73c-391ad824b7d3"
      },
      "execution_count": 33,
      "outputs": [
        {
          "output_type": "execute_result",
          "data": {
            "text/plain": [
              "USA    10930\n",
              "CHN      480\n",
              "GBR      406\n",
              "ISR      235\n",
              "CAN      214\n",
              "IND      162\n",
              "FRA      139\n",
              "DEU      123\n",
              "JPN       75\n",
              "RUS       74\n",
              "Name: country_code, dtype: int64"
            ]
          },
          "metadata": {},
          "execution_count": 33
        }
      ]
    },
    {
      "cell_type": "markdown",
      "source": [
        "## Top 10 Countries Based on Number Of Startups Established"
      ],
      "metadata": {
        "id": "Rc60LablCRxf"
      }
    },
    {
      "cell_type": "code",
      "source": [
        "ddf=df.groupby('invest_round_type').sum().reset_index()"
      ],
      "metadata": {
        "id": "q-5dJIXSCO6H"
      },
      "execution_count": 34,
      "outputs": []
    },
    {
      "cell_type": "code",
      "source": [
        "ddf"
      ],
      "metadata": {
        "colab": {
          "base_uri": "https://localhost:8080/",
          "height": 457
        },
        "id": "-fXPXmTHCO94",
        "outputId": "4ada1e86-b061-4c14-a7b5-83008db0be02"
      },
      "execution_count": 35,
      "outputs": [
        {
          "output_type": "execute_result",
          "data": {
            "text/plain": [
              "       invest_round_type  funding_rounds  funding_amount  amount_given\n",
              "0                  angel          3626.0     15905439327    1250715170\n",
              "1       convertible_note           937.0      1723619106     430467696\n",
              "2         debt_financing         14336.0     44227842985   38288768279\n",
              "3    equity_crowdfunding            40.0        95774484      24022043\n",
              "4                  grant          1481.0      5973179072    2472933902\n",
              "5          post_ipo_debt           107.0       566134665    1248881500\n",
              "6        post_ipo_equity           526.0      2482339131   17564569947\n",
              "7         private_equity          3767.0     16674137252   52995636203\n",
              "8   product_crowdfunding            80.0       290075849      43892648\n",
              "9       secondary_market           208.0      1569086189    3800409844\n",
              "10                  seed          9336.0     25078081569    3728218568\n",
              "11           undisclosed          1070.0      2862642138    2404586778\n",
              "12               venture         61818.0    260192403113  716673496818"
            ],
            "text/html": [
              "\n",
              "  <div id=\"df-f6079b5f-17a2-4331-bab6-56bd0773096b\">\n",
              "    <div class=\"colab-df-container\">\n",
              "      <div>\n",
              "<style scoped>\n",
              "    .dataframe tbody tr th:only-of-type {\n",
              "        vertical-align: middle;\n",
              "    }\n",
              "\n",
              "    .dataframe tbody tr th {\n",
              "        vertical-align: top;\n",
              "    }\n",
              "\n",
              "    .dataframe thead th {\n",
              "        text-align: right;\n",
              "    }\n",
              "</style>\n",
              "<table border=\"1\" class=\"dataframe\">\n",
              "  <thead>\n",
              "    <tr style=\"text-align: right;\">\n",
              "      <th></th>\n",
              "      <th>invest_round_type</th>\n",
              "      <th>funding_rounds</th>\n",
              "      <th>funding_amount</th>\n",
              "      <th>amount_given</th>\n",
              "    </tr>\n",
              "  </thead>\n",
              "  <tbody>\n",
              "    <tr>\n",
              "      <th>0</th>\n",
              "      <td>angel</td>\n",
              "      <td>3626.0</td>\n",
              "      <td>15905439327</td>\n",
              "      <td>1250715170</td>\n",
              "    </tr>\n",
              "    <tr>\n",
              "      <th>1</th>\n",
              "      <td>convertible_note</td>\n",
              "      <td>937.0</td>\n",
              "      <td>1723619106</td>\n",
              "      <td>430467696</td>\n",
              "    </tr>\n",
              "    <tr>\n",
              "      <th>2</th>\n",
              "      <td>debt_financing</td>\n",
              "      <td>14336.0</td>\n",
              "      <td>44227842985</td>\n",
              "      <td>38288768279</td>\n",
              "    </tr>\n",
              "    <tr>\n",
              "      <th>3</th>\n",
              "      <td>equity_crowdfunding</td>\n",
              "      <td>40.0</td>\n",
              "      <td>95774484</td>\n",
              "      <td>24022043</td>\n",
              "    </tr>\n",
              "    <tr>\n",
              "      <th>4</th>\n",
              "      <td>grant</td>\n",
              "      <td>1481.0</td>\n",
              "      <td>5973179072</td>\n",
              "      <td>2472933902</td>\n",
              "    </tr>\n",
              "    <tr>\n",
              "      <th>5</th>\n",
              "      <td>post_ipo_debt</td>\n",
              "      <td>107.0</td>\n",
              "      <td>566134665</td>\n",
              "      <td>1248881500</td>\n",
              "    </tr>\n",
              "    <tr>\n",
              "      <th>6</th>\n",
              "      <td>post_ipo_equity</td>\n",
              "      <td>526.0</td>\n",
              "      <td>2482339131</td>\n",
              "      <td>17564569947</td>\n",
              "    </tr>\n",
              "    <tr>\n",
              "      <th>7</th>\n",
              "      <td>private_equity</td>\n",
              "      <td>3767.0</td>\n",
              "      <td>16674137252</td>\n",
              "      <td>52995636203</td>\n",
              "    </tr>\n",
              "    <tr>\n",
              "      <th>8</th>\n",
              "      <td>product_crowdfunding</td>\n",
              "      <td>80.0</td>\n",
              "      <td>290075849</td>\n",
              "      <td>43892648</td>\n",
              "    </tr>\n",
              "    <tr>\n",
              "      <th>9</th>\n",
              "      <td>secondary_market</td>\n",
              "      <td>208.0</td>\n",
              "      <td>1569086189</td>\n",
              "      <td>3800409844</td>\n",
              "    </tr>\n",
              "    <tr>\n",
              "      <th>10</th>\n",
              "      <td>seed</td>\n",
              "      <td>9336.0</td>\n",
              "      <td>25078081569</td>\n",
              "      <td>3728218568</td>\n",
              "    </tr>\n",
              "    <tr>\n",
              "      <th>11</th>\n",
              "      <td>undisclosed</td>\n",
              "      <td>1070.0</td>\n",
              "      <td>2862642138</td>\n",
              "      <td>2404586778</td>\n",
              "    </tr>\n",
              "    <tr>\n",
              "      <th>12</th>\n",
              "      <td>venture</td>\n",
              "      <td>61818.0</td>\n",
              "      <td>260192403113</td>\n",
              "      <td>716673496818</td>\n",
              "    </tr>\n",
              "  </tbody>\n",
              "</table>\n",
              "</div>\n",
              "      <button class=\"colab-df-convert\" onclick=\"convertToInteractive('df-f6079b5f-17a2-4331-bab6-56bd0773096b')\"\n",
              "              title=\"Convert this dataframe to an interactive table.\"\n",
              "              style=\"display:none;\">\n",
              "        \n",
              "  <svg xmlns=\"http://www.w3.org/2000/svg\" height=\"24px\"viewBox=\"0 0 24 24\"\n",
              "       width=\"24px\">\n",
              "    <path d=\"M0 0h24v24H0V0z\" fill=\"none\"/>\n",
              "    <path d=\"M18.56 5.44l.94 2.06.94-2.06 2.06-.94-2.06-.94-.94-2.06-.94 2.06-2.06.94zm-11 1L8.5 8.5l.94-2.06 2.06-.94-2.06-.94L8.5 2.5l-.94 2.06-2.06.94zm10 10l.94 2.06.94-2.06 2.06-.94-2.06-.94-.94-2.06-.94 2.06-2.06.94z\"/><path d=\"M17.41 7.96l-1.37-1.37c-.4-.4-.92-.59-1.43-.59-.52 0-1.04.2-1.43.59L10.3 9.45l-7.72 7.72c-.78.78-.78 2.05 0 2.83L4 21.41c.39.39.9.59 1.41.59.51 0 1.02-.2 1.41-.59l7.78-7.78 2.81-2.81c.8-.78.8-2.07 0-2.86zM5.41 20L4 18.59l7.72-7.72 1.47 1.35L5.41 20z\"/>\n",
              "  </svg>\n",
              "      </button>\n",
              "      \n",
              "  <style>\n",
              "    .colab-df-container {\n",
              "      display:flex;\n",
              "      flex-wrap:wrap;\n",
              "      gap: 12px;\n",
              "    }\n",
              "\n",
              "    .colab-df-convert {\n",
              "      background-color: #E8F0FE;\n",
              "      border: none;\n",
              "      border-radius: 50%;\n",
              "      cursor: pointer;\n",
              "      display: none;\n",
              "      fill: #1967D2;\n",
              "      height: 32px;\n",
              "      padding: 0 0 0 0;\n",
              "      width: 32px;\n",
              "    }\n",
              "\n",
              "    .colab-df-convert:hover {\n",
              "      background-color: #E2EBFA;\n",
              "      box-shadow: 0px 1px 2px rgba(60, 64, 67, 0.3), 0px 1px 3px 1px rgba(60, 64, 67, 0.15);\n",
              "      fill: #174EA6;\n",
              "    }\n",
              "\n",
              "    [theme=dark] .colab-df-convert {\n",
              "      background-color: #3B4455;\n",
              "      fill: #D2E3FC;\n",
              "    }\n",
              "\n",
              "    [theme=dark] .colab-df-convert:hover {\n",
              "      background-color: #434B5C;\n",
              "      box-shadow: 0px 1px 3px 1px rgba(0, 0, 0, 0.15);\n",
              "      filter: drop-shadow(0px 1px 2px rgba(0, 0, 0, 0.3));\n",
              "      fill: #FFFFFF;\n",
              "    }\n",
              "  </style>\n",
              "\n",
              "      <script>\n",
              "        const buttonEl =\n",
              "          document.querySelector('#df-f6079b5f-17a2-4331-bab6-56bd0773096b button.colab-df-convert');\n",
              "        buttonEl.style.display =\n",
              "          google.colab.kernel.accessAllowed ? 'block' : 'none';\n",
              "\n",
              "        async function convertToInteractive(key) {\n",
              "          const element = document.querySelector('#df-f6079b5f-17a2-4331-bab6-56bd0773096b');\n",
              "          const dataTable =\n",
              "            await google.colab.kernel.invokeFunction('convertToInteractive',\n",
              "                                                     [key], {});\n",
              "          if (!dataTable) return;\n",
              "\n",
              "          const docLinkHtml = 'Like what you see? Visit the ' +\n",
              "            '<a target=\"_blank\" href=https://colab.research.google.com/notebooks/data_table.ipynb>data table notebook</a>'\n",
              "            + ' to learn more about interactive tables.';\n",
              "          element.innerHTML = '';\n",
              "          dataTable['output_type'] = 'display_data';\n",
              "          await google.colab.output.renderOutput(dataTable, element);\n",
              "          const docLink = document.createElement('div');\n",
              "          docLink.innerHTML = docLinkHtml;\n",
              "          element.appendChild(docLink);\n",
              "        }\n",
              "      </script>\n",
              "    </div>\n",
              "  </div>\n",
              "  "
            ]
          },
          "metadata": {},
          "execution_count": 35
        }
      ]
    },
    {
      "cell_type": "code",
      "source": [
        "dft[' market '].value_counts().head(30).plot(kind='bar')"
      ],
      "metadata": {
        "colab": {
          "base_uri": "https://localhost:8080/",
          "height": 385
        },
        "id": "1KAUWtTTCPBT",
        "outputId": "fdc124eb-999e-43dc-bed8-3e1788ad9838"
      },
      "execution_count": 36,
      "outputs": [
        {
          "output_type": "execute_result",
          "data": {
            "text/plain": [
              "<matplotlib.axes._subplots.AxesSubplot at 0x7f555a1a5e10>"
            ]
          },
          "metadata": {},
          "execution_count": 36
        },
        {
          "output_type": "display_data",
          "data": {
            "text/plain": [
              "<Figure size 432x288 with 1 Axes>"
            ],
            "image/png": "[encoded data removed]"
          },
          "metadata": {
            "needs_background": "light"
          }
        }
      ]
    },
    {
      "cell_type": "code",
      "source": [
        "def tell_country(a): ## tells country related information of startups\n",
        "    df_c=dft[dft['country_code']==a]\n",
        "    plt.subplot(211)\n",
        "    df_c['city'].value_counts().head(10).plot(kind='pie',figsize=(10,20),autopct='%1.1f%%')\n",
        "    plt.subplot(212)\n",
        "    df_c[' market '].value_counts().head(30).plot(kind='bar')"
      ],
      "metadata": {
        "id": "fMBXetQICPD7"
      },
      "execution_count": 37,
      "outputs": []
    },
    {
      "cell_type": "code",
      "source": [
        "tell_country('IND')"
      ],
      "metadata": {
        "colab": {
          "base_uri": "https://localhost:8080/",
          "height": 1000
        },
        "id": "OLDU1o-7CPG6",
        "outputId": "e0959920-d33d-40b8-ad67-ef94d1bf595f"
      },
      "execution_count": 38,
      "outputs": [
        {
          "output_type": "display_data",
          "data": {
            "text/plain": [
              "<Figure size 720x1440 with 2 Axes>"
            ],
            "image/png": "[encoded data removed]"
          },
          "metadata": {
            "needs_background": "light"
          }
        }
      ]
    },
    {
      "cell_type": "code",
      "source": [
        "tell_country('USA')"
      ],
      "metadata": {
        "colab": {
          "base_uri": "https://localhost:8080/",
          "height": 1000
        },
        "id": "V_Ft4H3bB_Qx",
        "outputId": "fe39bb26-e244-40cc-fefc-5741223e10fc"
      },
      "execution_count": 39,
      "outputs": [
        {
          "output_type": "display_data",
          "data": {
            "text/plain": [
              "<Figure size 720x1440 with 2 Axes>"
            ],
            "image/png": "[encoded data removed]"
          },
          "metadata": {
            "needs_background": "light"
          }
        }
      ]
    },
    {
      "cell_type": "code",
      "source": [
        "x=dft[dft['homepage_url'].isnull()==False]"
      ],
      "metadata": {
        "id": "NsIrVezzCnuP"
      },
      "execution_count": 40,
      "outputs": []
    },
    {
      "cell_type": "code",
      "source": [
        "stri = []\n",
        "for i in x['homepage_url']:\n",
        "    stri.append(i)"
      ],
      "metadata": {
        "id": "GAr2dh8yCnxF"
      },
      "execution_count": 41,
      "outputs": []
    },
    {
      "cell_type": "code",
      "source": [
        "l = len(stri)\n",
        "i = 0\n",
        "e = []\n",
        "while i < l:\n",
        "    y = stri[i].split('.')[len(stri[i].split('.'))-1]\n",
        "    if ('/' in y == True):\n",
        "        e.append(y.split('/')[0])\n",
        "    else:\n",
        "        e.append(y)\n",
        "        \n",
        "    i=i+1\n",
        "    \n",
        "x['domain']=e"
      ],
      "metadata": {
        "id": "_ySW1sx5Cn7R"
      },
      "execution_count": 42,
      "outputs": []
    },
    {
      "cell_type": "code",
      "source": [
        "x['domain'].replace(to_replace = r'^com[/w/.-]',value='com',regex= True,inplace=True)"
      ],
      "metadata": {
        "id": "YZgXGXbKCyyf"
      },
      "execution_count": 43,
      "outputs": []
    },
    {
      "cell_type": "code",
      "source": [
        "x['domain'].value_counts().head(5).plot(kind='bar')"
      ],
      "metadata": {
        "colab": {
          "base_uri": "https://localhost:8080/",
          "height": 293
        },
        "id": "xuOSLQXJCy30",
        "outputId": "842d5ec0-49c2-40dc-c95b-a5c020123b0d"
      },
      "execution_count": 44,
      "outputs": [
        {
          "output_type": "execute_result",
          "data": {
            "text/plain": [
              "<matplotlib.axes._subplots.AxesSubplot at 0x7f555a6f7710>"
            ]
          },
          "metadata": {},
          "execution_count": 44
        },
        {
          "output_type": "display_data",
          "data": {
            "text/plain": [
              "<Figure size 432x288 with 1 Axes>"
            ],
            "image/png": "[encoded data removed]"
          },
          "metadata": {
            "needs_background": "light"
          }
        }
      ]
    },
    {
      "cell_type": "markdown",
      "source": [
        "## Most of the startups preffers .com domains"
      ],
      "metadata": {
        "id": "ZOkkIvqtDAYz"
      }
    },
    {
      "cell_type": "code",
      "source": [
        "dft['founded_quarter'].replace(to_replace = r'^[\\d\\d\\d\\d.-]+',value='',regex= True,inplace = True)"
      ],
      "metadata": {
        "id": "8KjxGBCNCy7n"
      },
      "execution_count": 45,
      "outputs": []
    },
    {
      "cell_type": "code",
      "source": [
        "sns.catplot(x='founded_quarter',hue='status',kind='count', data=dft)"
      ],
      "metadata": {
        "colab": {
          "base_uri": "https://localhost:8080/",
          "height": 386
        },
        "id": "-J0Srav9DFZi",
        "outputId": "d2059a42-6e34-4392-d113-8707a1f9cb56"
      },
      "execution_count": 46,
      "outputs": [
        {
          "output_type": "execute_result",
          "data": {
            "text/plain": [
              "<seaborn.axisgrid.FacetGrid at 0x7f5559986650>"
            ]
          },
          "metadata": {},
          "execution_count": 46
        },
        {
          "output_type": "display_data",
          "data": {
            "text/plain": [
              "<Figure size 444.125x360 with 1 Axes>"
            ],
            "image/png": "[encoded data removed]"
          },
          "metadata": {
            "needs_background": "light"
          }
        }
      ]
    },
    {
      "cell_type": "markdown",
      "source": [
        "## first quarter is most important for startups"
      ],
      "metadata": {
        "id": "eCSEjgUTDJfm"
      }
    }
  ]
}